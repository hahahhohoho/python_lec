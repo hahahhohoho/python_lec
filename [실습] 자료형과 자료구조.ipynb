{
 "cells": [
  {
   "cell_type": "markdown",
   "metadata": {
    "colab_type": "text",
    "id": "DhRp7joQQWjC"
   },
   "source": [
    "## 1. 변수의 개념"
   ]
  },
  {
   "cell_type": "markdown",
   "metadata": {
    "colab_type": "text",
    "id": "jYy2_H0LTTV1"
   },
   "source": [
    "변수는 **데이터를 담는 그릇**이라고 생각하시면 됩니다.\n",
    "\n",
    "변수라는 그릇에 정수를 담을 수도 있고, 긴 글을 담을 수도 있습니다. 우리가 재사용 하기 쉽게 **별명**을 지정해 줬다라고 쉽게 생각하시기 바랍니다.\n"
   ]
  },
  {
   "cell_type": "markdown",
   "metadata": {
    "colab_type": "text",
    "id": "pXEzU0KYQlFq"
   },
   "source": [
    "### 1-1. 변수명 작성 규칙"
   ]
  },
  {
   "cell_type": "markdown",
   "metadata": {
    "colab_type": "text",
    "id": "bOx6AZblQ7N5"
   },
   "source": [
    "case 1. 알파벳 (가능) / 대소문자 모두 가능 /심지어 **한글도 가능하나 사용하는 것은 비추**!"
   ]
  },
  {
   "cell_type": "code",
   "execution_count": 440,
   "metadata": {
    "colab": {},
    "colab_type": "code",
    "id": "TIK6Qp5RQ6-k"
   },
   "outputs": [],
   "source": [
    "a = 1"
   ]
  },
  {
   "cell_type": "code",
   "execution_count": 441,
   "metadata": {},
   "outputs": [
    {
     "name": "stdout",
     "output_type": "stream",
     "text": [
      "1\n"
     ]
    }
   ],
   "source": [
    "print(a)"
   ]
  },
  {
   "cell_type": "code",
   "execution_count": 442,
   "metadata": {
    "colab": {},
    "colab_type": "code",
    "id": "Wxpjs5SbSFdV"
   },
   "outputs": [],
   "source": [
    "A = 1"
   ]
  },
  {
   "cell_type": "code",
   "execution_count": 462,
   "metadata": {},
   "outputs": [
    {
     "name": "stdout",
     "output_type": "stream",
     "text": [
      "1\n"
     ]
    }
   ],
   "source": [
    "print(A)"
   ]
  },
  {
   "cell_type": "code",
   "execution_count": 444,
   "metadata": {
    "colab": {},
    "colab_type": "code",
    "id": "Pri05QNBSHD_"
   },
   "outputs": [],
   "source": [
    "변수 = 1"
   ]
  },
  {
   "cell_type": "code",
   "execution_count": 445,
   "metadata": {
    "colab": {
     "base_uri": "https://localhost:8080/",
     "height": 34
    },
    "colab_type": "code",
    "id": "FKfXqeQoSIXU",
    "outputId": "e0101af9-2044-4159-fefc-dcf4073fd69a"
   },
   "outputs": [
    {
     "data": {
      "text/plain": [
       "1"
      ]
     },
     "execution_count": 445,
     "metadata": {},
     "output_type": "execute_result"
    }
   ],
   "source": [
    "변수"
   ]
  },
  {
   "cell_type": "markdown",
   "metadata": {
    "colab_type": "text",
    "id": "nEyz3D-8Quh5"
   },
   "source": [
    "case 2. 알파벳 + 숫자 (가능)"
   ]
  },
  {
   "cell_type": "code",
   "execution_count": 446,
   "metadata": {
    "colab": {},
    "colab_type": "code",
    "id": "XJZFGL3oQk87"
   },
   "outputs": [],
   "source": [
    "a1 = 1"
   ]
  },
  {
   "cell_type": "markdown",
   "metadata": {
    "colab_type": "text",
    "id": "DMODcJQnRJQU"
   },
   "source": [
    "case 3. 알파벳 + 언더바(_) (가능)"
   ]
  },
  {
   "cell_type": "code",
   "execution_count": 447,
   "metadata": {
    "colab": {},
    "colab_type": "code",
    "id": "iLZ6Bp8PRaay"
   },
   "outputs": [],
   "source": [
    "a_ = 1"
   ]
  },
  {
   "cell_type": "markdown",
   "metadata": {
    "colab_type": "text",
    "id": "yfz1ox-5Rb0I"
   },
   "source": [
    "case 4. 언더바(_) + 알파벳 (가능))"
   ]
  },
  {
   "cell_type": "code",
   "execution_count": 448,
   "metadata": {
    "colab": {},
    "colab_type": "code",
    "id": "gXKzcmybRizo"
   },
   "outputs": [],
   "source": [
    "_a = 1"
   ]
  },
  {
   "cell_type": "markdown",
   "metadata": {
    "colab_type": "text",
    "id": "OrfMZBODQkyU"
   },
   "source": [
    "case 5. 숫자 + 알파벳 (불가능)"
   ]
  },
  {
   "cell_type": "code",
   "execution_count": 449,
   "metadata": {
    "colab": {
     "base_uri": "https://localhost:8080/",
     "height": 134
    },
    "colab_type": "code",
    "id": "Po0D-oA_QWLq",
    "outputId": "47659b3c-f6b7-4f45-b059-f59dd8a9c000"
   },
   "outputs": [
    {
     "ename": "SyntaxError",
     "evalue": "invalid decimal literal (1364191551.py, line 1)",
     "output_type": "error",
     "traceback": [
      "\u001b[1;36m  Cell \u001b[1;32mIn[449], line 1\u001b[1;36m\u001b[0m\n\u001b[1;33m    1a = 1\u001b[0m\n\u001b[1;37m    ^\u001b[0m\n\u001b[1;31mSyntaxError\u001b[0m\u001b[1;31m:\u001b[0m invalid decimal literal\n"
     ]
    }
   ],
   "source": [
    "1a = 1"
   ]
  },
  {
   "cell_type": "markdown",
   "metadata": {
    "colab_type": "text",
    "id": "cVC_51UAQ4_E"
   },
   "source": [
    "case 6. 특수문자 (불가능)"
   ]
  },
  {
   "cell_type": "code",
   "execution_count": 450,
   "metadata": {
    "colab": {
     "base_uri": "https://localhost:8080/",
     "height": 134
    },
    "colab_type": "code",
    "id": "1R5QFrVcRsip",
    "outputId": "6ad3f6ed-b709-43f9-af36-d70d0f00a882"
   },
   "outputs": [
    {
     "ename": "SyntaxError",
     "evalue": "invalid syntax (1040641717.py, line 1)",
     "output_type": "error",
     "traceback": [
      "\u001b[1;36m  Cell \u001b[1;32mIn[450], line 1\u001b[1;36m\u001b[0m\n\u001b[1;33m    * = 7\u001b[0m\n\u001b[1;37m      ^\u001b[0m\n\u001b[1;31mSyntaxError\u001b[0m\u001b[1;31m:\u001b[0m invalid syntax\n"
     ]
    }
   ],
   "source": [
    "* = 7"
   ]
  },
  {
   "cell_type": "markdown",
   "metadata": {
    "colab_type": "text",
    "id": "DApK72LyRuWk"
   },
   "source": [
    "case 7. 언더바를 제외한 특수문자 (불가능)"
   ]
  },
  {
   "cell_type": "code",
   "execution_count": 451,
   "metadata": {
    "colab": {
     "base_uri": "https://localhost:8080/",
     "height": 134
    },
    "colab_type": "code",
    "id": "ib-k4vjZRuKR",
    "outputId": "29d292da-7468-4884-fb79-da9123eb5928"
   },
   "outputs": [
    {
     "ename": "SyntaxError",
     "evalue": "invalid syntax (158779158.py, line 1)",
     "output_type": "error",
     "traceback": [
      "\u001b[1;36m  Cell \u001b[1;32mIn[451], line 1\u001b[1;36m\u001b[0m\n\u001b[1;33m    a$ = 6\u001b[0m\n\u001b[1;37m     ^\u001b[0m\n\u001b[1;31mSyntaxError\u001b[0m\u001b[1;31m:\u001b[0m invalid syntax\n"
     ]
    }
   ],
   "source": [
    "a$ = 6"
   ]
  },
  {
   "cell_type": "markdown",
   "metadata": {
    "colab_type": "text",
    "id": "C4N7rPjenZfj"
   },
   "source": [
    "case 8. 변수의 이름 사이의 공백 (불가능)"
   ]
  },
  {
   "cell_type": "code",
   "execution_count": 452,
   "metadata": {
    "colab": {
     "base_uri": "https://localhost:8080/",
     "height": 134
    },
    "colab_type": "code",
    "id": "t0noa6EOngJc",
    "outputId": "e294ccd3-c6e2-4424-e0cd-88d9c1d6dd59"
   },
   "outputs": [
    {
     "ename": "SyntaxError",
     "evalue": "invalid syntax (3277752647.py, line 1)",
     "output_type": "error",
     "traceback": [
      "\u001b[1;36m  Cell \u001b[1;32mIn[452], line 1\u001b[1;36m\u001b[0m\n\u001b[1;33m    a b = 6\u001b[0m\n\u001b[1;37m      ^\u001b[0m\n\u001b[1;31mSyntaxError\u001b[0m\u001b[1;31m:\u001b[0m invalid syntax\n"
     ]
    }
   ],
   "source": [
    "a b = 6"
   ]
  },
  {
   "cell_type": "markdown",
   "metadata": {
    "colab_type": "text",
    "id": "Zi16utkrSWUB"
   },
   "source": [
    "주로 변수는 **소문자 알파벳으로 생성**하고, 필요시 **언더바**나 **숫자를 붙이는 방식**이 일반적입니다."
   ]
  },
  {
   "cell_type": "code",
   "execution_count": 25,
   "metadata": {
    "colab": {},
    "colab_type": "code",
    "id": "7um-fqf7R7gl"
   },
   "outputs": [],
   "source": [
    "test = 10"
   ]
  },
  {
   "cell_type": "code",
   "execution_count": 453,
   "metadata": {
    "colab": {},
    "colab_type": "code",
    "id": "niBpyRtkSmIq"
   },
   "outputs": [],
   "source": [
    "test01 = 20"
   ]
  },
  {
   "cell_type": "code",
   "execution_count": 454,
   "metadata": {
    "colab": {},
    "colab_type": "code",
    "id": "01krOD1tSprV"
   },
   "outputs": [],
   "source": [
    "test_01 = 30"
   ]
  },
  {
   "cell_type": "markdown",
   "metadata": {},
   "source": [
    "#"
   ]
  },
  {
   "cell_type": "markdown",
   "metadata": {
    "colab_type": "text",
    "id": "duU9a-x5nl2k"
   },
   "source": [
    "### 1-2. 변수의 출력"
   ]
  },
  {
   "cell_type": "markdown",
   "metadata": {
    "colab_type": "text",
    "id": "4vsJdyfOnq50"
   },
   "source": [
    "1. print() 구문 사이에 **값을 직접 집어 넣으면**, 바로 **값이 출력**됩니다.\n",
    "2. print() 구문 사이에 **변수 이름**을 집어 넣으면, 그 **값이 출력**이 됩니다."
   ]
  },
  {
   "cell_type": "code",
   "execution_count": 455,
   "metadata": {
    "colab": {
     "base_uri": "https://localhost:8080/",
     "height": 34
    },
    "colab_type": "code",
    "id": "Nn1PnFk5nn3v",
    "outputId": "698cd8da-24a9-461b-fb79-587748647f88"
   },
   "outputs": [
    {
     "name": "stdout",
     "output_type": "stream",
     "text": [
      "test\n"
     ]
    }
   ],
   "source": [
    "# 코드를 입력하세요\n",
    "print('test')"
   ]
  },
  {
   "cell_type": "code",
   "execution_count": 529,
   "metadata": {
    "colab": {},
    "colab_type": "code",
    "id": "gqjwycpjoLFU"
   },
   "outputs": [],
   "source": [
    "a = 'Hello, Python!'"
   ]
  },
  {
   "cell_type": "code",
   "execution_count": 530,
   "metadata": {
    "colab": {
     "base_uri": "https://localhost:8080/",
     "height": 34
    },
    "colab_type": "code",
    "id": "1Y6yv3IjoLN2",
    "outputId": "8c0ca3b7-6021-4be4-eab3-137456c1d0e3"
   },
   "outputs": [
    {
     "name": "stdout",
     "output_type": "stream",
     "text": [
      "Hello, Python!\n"
     ]
    }
   ],
   "source": [
    "print(a)"
   ]
  },
  {
   "cell_type": "markdown",
   "metadata": {},
   "source": [
    "#"
   ]
  },
  {
   "cell_type": "markdown",
   "metadata": {
    "colab_type": "text",
    "id": "e3jWuNkIFf52"
   },
   "source": [
    "## 2. Python 자료형(데이터 Type)"
   ]
  },
  {
   "cell_type": "markdown",
   "metadata": {
    "colab_type": "text",
    "id": "XG1zmhr-GLBP"
   },
   "source": [
    "**자료형**\n",
    "\n",
    "1. int(정수)\n",
    "2. float(실수)\n",
    "3. str(문자열) \n",
    "4. bool(참/거짓)"
   ]
  },
  {
   "cell_type": "markdown",
   "metadata": {
    "colab_type": "text",
    "id": "QHYQ09XIGg1_"
   },
   "source": [
    "### **1) int(정수)**"
   ]
  },
  {
   "cell_type": "markdown",
   "metadata": {},
   "source": [
    "- 소수점이 없는 숫자 자료형입니다."
   ]
  },
  {
   "cell_type": "code",
   "execution_count": 463,
   "metadata": {
    "colab": {},
    "colab_type": "code",
    "id": "y1cPV_XxFrkb"
   },
   "outputs": [],
   "source": [
    "a = 3"
   ]
  },
  {
   "cell_type": "code",
   "execution_count": 464,
   "metadata": {
    "colab": {
     "base_uri": "https://localhost:8080/",
     "height": 34
    },
    "colab_type": "code",
    "id": "At5R-m--FuuR",
    "outputId": "8635b059-3cbc-4e9a-fed3-4bbd74746eee"
   },
   "outputs": [
    {
     "data": {
      "text/plain": [
       "3"
      ]
     },
     "execution_count": 464,
     "metadata": {},
     "output_type": "execute_result"
    }
   ],
   "source": [
    "# 코드를 입력하세요\n",
    "a"
   ]
  },
  {
   "cell_type": "code",
   "execution_count": 465,
   "metadata": {
    "colab": {
     "base_uri": "https://localhost:8080/",
     "height": 34
    },
    "colab_type": "code",
    "id": "LPjP8lXe29pY",
    "outputId": "9c551c4a-f3bd-4011-e7e4-ed4646b68a7e"
   },
   "outputs": [
    {
     "data": {
      "text/plain": [
       "int"
      ]
     },
     "execution_count": 465,
     "metadata": {},
     "output_type": "execute_result"
    }
   ],
   "source": [
    "# 클래스를 확인합니다.\n",
    "type(a)"
   ]
  },
  {
   "cell_type": "markdown",
   "metadata": {
    "colab_type": "text",
    "id": "qOJu5f5kGjpf"
   },
   "source": [
    "### **2) float(실수)**"
   ]
  },
  {
   "cell_type": "markdown",
   "metadata": {},
   "source": [
    "- 소수점이 있는 숫자 자료형입니다."
   ]
  },
  {
   "cell_type": "code",
   "execution_count": 466,
   "metadata": {
    "colab": {},
    "colab_type": "code",
    "id": "4N-NaYDdGlTF"
   },
   "outputs": [],
   "source": [
    "b = 3.0"
   ]
  },
  {
   "cell_type": "code",
   "execution_count": 468,
   "metadata": {
    "colab": {
     "base_uri": "https://localhost:8080/",
     "height": 34
    },
    "colab_type": "code",
    "id": "W-OYC_1zGneM",
    "outputId": "a775d287-c612-46ec-c324-c7576a7e3382"
   },
   "outputs": [
    {
     "data": {
      "text/plain": [
       "3.0"
      ]
     },
     "execution_count": 468,
     "metadata": {},
     "output_type": "execute_result"
    }
   ],
   "source": [
    "# b를 출력합니다.\n",
    "b"
   ]
  },
  {
   "cell_type": "code",
   "execution_count": 470,
   "metadata": {
    "colab": {
     "base_uri": "https://localhost:8080/",
     "height": 34
    },
    "colab_type": "code",
    "id": "9wJn_P-roVh9",
    "outputId": "87e88913-9597-4e88-e2ee-4660c2b8df90"
   },
   "outputs": [
    {
     "data": {
      "text/plain": [
       "float"
      ]
     },
     "execution_count": 470,
     "metadata": {},
     "output_type": "execute_result"
    }
   ],
   "source": [
    "# 클래스를 확인합니다.\n",
    "type(b)"
   ]
  },
  {
   "cell_type": "markdown",
   "metadata": {
    "colab_type": "text",
    "id": "5sc68iMeGpJO"
   },
   "source": [
    "### * 산술연산자 실습"
   ]
  },
  {
   "cell_type": "code",
   "execution_count": 367,
   "metadata": {
    "colab": {},
    "colab_type": "code",
    "id": "cosCc_J0Fv8l"
   },
   "outputs": [
    {
     "data": {
      "text/plain": [
       "6.0"
      ]
     },
     "execution_count": 367,
     "metadata": {},
     "output_type": "execute_result"
    }
   ],
   "source": [
    "# a와 b를 더합니다.\n",
    "a+b"
   ]
  },
  {
   "cell_type": "code",
   "execution_count": 368,
   "metadata": {
    "colab": {},
    "colab_type": "code",
    "id": "1S7b3MedofHY"
   },
   "outputs": [
    {
     "data": {
      "text/plain": [
       "0.0"
      ]
     },
     "execution_count": 368,
     "metadata": {},
     "output_type": "execute_result"
    }
   ],
   "source": [
    "# a에서 b를 뺍니다.\n",
    "a-b"
   ]
  },
  {
   "cell_type": "code",
   "execution_count": 369,
   "metadata": {
    "colab": {
     "base_uri": "https://localhost:8080/",
     "height": 34
    },
    "colab_type": "code",
    "id": "8h_mSzprGr0M",
    "outputId": "4d3d373f-0a2b-4894-cf93-e6f2e3897bd5"
   },
   "outputs": [
    {
     "data": {
      "text/plain": [
       "9.0"
      ]
     },
     "execution_count": 369,
     "metadata": {},
     "output_type": "execute_result"
    }
   ],
   "source": [
    "# a와 b를 곱합니다.\n",
    "a*b"
   ]
  },
  {
   "cell_type": "code",
   "execution_count": 370,
   "metadata": {
    "colab": {
     "base_uri": "https://localhost:8080/",
     "height": 34
    },
    "colab_type": "code",
    "id": "QAIcA-SXF7iw",
    "outputId": "560cbcd2-f9bc-40cc-d354-63cb19feb5af"
   },
   "outputs": [
    {
     "data": {
      "text/plain": [
       "27.0"
      ]
     },
     "execution_count": 370,
     "metadata": {},
     "output_type": "execute_result"
    }
   ],
   "source": [
    "# a를 b로 거듭제곱합니다. \n",
    "a**b"
   ]
  },
  {
   "cell_type": "code",
   "execution_count": 371,
   "metadata": {
    "colab": {
     "base_uri": "https://localhost:8080/",
     "height": 34
    },
    "colab_type": "code",
    "id": "QAIcA-SXF7iw",
    "outputId": "560cbcd2-f9bc-40cc-d354-63cb19feb5af"
   },
   "outputs": [
    {
     "data": {
      "text/plain": [
       "1.0"
      ]
     },
     "execution_count": 371,
     "metadata": {},
     "output_type": "execute_result"
    }
   ],
   "source": [
    "# a를 b로 나눕니다.\n",
    "a/b"
   ]
  },
  {
   "cell_type": "code",
   "execution_count": 373,
   "metadata": {
    "colab": {
     "base_uri": "https://localhost:8080/",
     "height": 34
    },
    "colab_type": "code",
    "id": "QAIcA-SXF7iw",
    "outputId": "560cbcd2-f9bc-40cc-d354-63cb19feb5af"
   },
   "outputs": [
    {
     "data": {
      "text/plain": [
       "1.0"
      ]
     },
     "execution_count": 373,
     "metadata": {},
     "output_type": "execute_result"
    }
   ],
   "source": [
    "# a를 b로 나눈 몫을 반환합니다.\n",
    "a//b"
   ]
  },
  {
   "cell_type": "code",
   "execution_count": 374,
   "metadata": {
    "colab": {
     "base_uri": "https://localhost:8080/",
     "height": 34
    },
    "colab_type": "code",
    "id": "QAIcA-SXF7iw",
    "outputId": "560cbcd2-f9bc-40cc-d354-63cb19feb5af"
   },
   "outputs": [
    {
     "data": {
      "text/plain": [
       "0.0"
      ]
     },
     "execution_count": 374,
     "metadata": {},
     "output_type": "execute_result"
    }
   ],
   "source": [
    "# a를 b로 나눈 나머지를 반환합니다.\n",
    "a%b"
   ]
  },
  {
   "cell_type": "markdown",
   "metadata": {
    "colab_type": "text",
    "id": "v867uiHyF8nE"
   },
   "source": [
    "### * 할당연산자 실습"
   ]
  },
  {
   "cell_type": "code",
   "execution_count": 499,
   "metadata": {
    "colab": {},
    "colab_type": "code",
    "id": "cj28ZTzLQNrV"
   },
   "outputs": [],
   "source": [
    "# a에 정수 5를 할당합니다.\n",
    "a=5"
   ]
  },
  {
   "cell_type": "code",
   "execution_count": 494,
   "metadata": {
    "colab": {
     "base_uri": "https://localhost:8080/",
     "height": 34
    },
    "colab_type": "code",
    "id": "nJayiV8HQP2S",
    "outputId": "79f2e861-c798-43bc-f9f6-4f0333603e0a"
   },
   "outputs": [
    {
     "data": {
      "text/plain": [
       "5"
      ]
     },
     "execution_count": 494,
     "metadata": {},
     "output_type": "execute_result"
    }
   ],
   "source": [
    "# a를 출력합니다.\n",
    "a"
   ]
  },
  {
   "cell_type": "code",
   "execution_count": 500,
   "metadata": {},
   "outputs": [
    {
     "data": {
      "text/plain": [
       "5"
      ]
     },
     "execution_count": 500,
     "metadata": {},
     "output_type": "execute_result"
    }
   ],
   "source": [
    "a"
   ]
  },
  {
   "cell_type": "code",
   "execution_count": 502,
   "metadata": {
    "colab": {
     "base_uri": "https://localhost:8080/",
     "height": 34
    },
    "colab_type": "code",
    "id": "-liXhXbSQQUj",
    "outputId": "0e34fc5e-0b67-4f4f-a0ef-98040efbb868"
   },
   "outputs": [],
   "source": [
    "# a에 1을 더한 값을 재할당합니다.\n",
    "a+=1"
   ]
  },
  {
   "cell_type": "code",
   "execution_count": 503,
   "metadata": {},
   "outputs": [
    {
     "data": {
      "text/plain": [
       "6"
      ]
     },
     "execution_count": 503,
     "metadata": {},
     "output_type": "execute_result"
    }
   ],
   "source": [
    "# a를 출력합니다.\n",
    "a"
   ]
  },
  {
   "cell_type": "code",
   "execution_count": 504,
   "metadata": {},
   "outputs": [],
   "source": [
    "# a에서 2를 뺀 값을 재할당합니다.\n",
    "a-=2"
   ]
  },
  {
   "cell_type": "code",
   "execution_count": 505,
   "metadata": {},
   "outputs": [
    {
     "data": {
      "text/plain": [
       "4"
      ]
     },
     "execution_count": 505,
     "metadata": {},
     "output_type": "execute_result"
    }
   ],
   "source": [
    "# a를 출력합니다.\n",
    "a"
   ]
  },
  {
   "cell_type": "code",
   "execution_count": 506,
   "metadata": {},
   "outputs": [],
   "source": [
    "# b에 3을 곱한 값을 재할당합니다.\n",
    "b*=3"
   ]
  },
  {
   "cell_type": "code",
   "execution_count": 507,
   "metadata": {},
   "outputs": [
    {
     "data": {
      "text/plain": [
       "9.0"
      ]
     },
     "execution_count": 507,
     "metadata": {},
     "output_type": "execute_result"
    }
   ],
   "source": [
    "# b를 출력합니다.\n",
    "b"
   ]
  },
  {
   "cell_type": "code",
   "execution_count": 508,
   "metadata": {},
   "outputs": [],
   "source": [
    "# b를 4로 나눈 값을 b에 재할당합니다.\n",
    "b/=4"
   ]
  },
  {
   "cell_type": "code",
   "execution_count": 509,
   "metadata": {},
   "outputs": [
    {
     "data": {
      "text/plain": [
       "2.25"
      ]
     },
     "execution_count": 509,
     "metadata": {},
     "output_type": "execute_result"
    }
   ],
   "source": [
    "# b를 출력합니다.\n",
    "b"
   ]
  },
  {
   "cell_type": "markdown",
   "metadata": {},
   "source": [
    "### * 비교연산자 실습"
   ]
  },
  {
   "cell_type": "code",
   "execution_count": 510,
   "metadata": {},
   "outputs": [
    {
     "data": {
      "text/plain": [
       "False"
      ]
     },
     "execution_count": 510,
     "metadata": {},
     "output_type": "execute_result"
    }
   ],
   "source": [
    "a>4"
   ]
  },
  {
   "cell_type": "code",
   "execution_count": 511,
   "metadata": {},
   "outputs": [
    {
     "data": {
      "text/plain": [
       "True"
      ]
     },
     "execution_count": 511,
     "metadata": {},
     "output_type": "execute_result"
    }
   ],
   "source": [
    "a>=4"
   ]
  },
  {
   "cell_type": "code",
   "execution_count": 512,
   "metadata": {},
   "outputs": [
    {
     "data": {
      "text/plain": [
       "False"
      ]
     },
     "execution_count": 512,
     "metadata": {},
     "output_type": "execute_result"
    }
   ],
   "source": [
    "a<4"
   ]
  },
  {
   "cell_type": "code",
   "execution_count": 513,
   "metadata": {},
   "outputs": [
    {
     "data": {
      "text/plain": [
       "True"
      ]
     },
     "execution_count": 513,
     "metadata": {},
     "output_type": "execute_result"
    }
   ],
   "source": [
    "a<=4"
   ]
  },
  {
   "cell_type": "code",
   "execution_count": 514,
   "metadata": {},
   "outputs": [
    {
     "data": {
      "text/plain": [
       "True"
      ]
     },
     "execution_count": 514,
     "metadata": {},
     "output_type": "execute_result"
    }
   ],
   "source": [
    "a==4"
   ]
  },
  {
   "cell_type": "code",
   "execution_count": 515,
   "metadata": {},
   "outputs": [
    {
     "data": {
      "text/plain": [
       "False"
      ]
     },
     "execution_count": 515,
     "metadata": {},
     "output_type": "execute_result"
    }
   ],
   "source": [
    "a!=4"
   ]
  },
  {
   "cell_type": "markdown",
   "metadata": {},
   "source": [
    "### * 논리연산자 실습"
   ]
  },
  {
   "cell_type": "code",
   "execution_count": 516,
   "metadata": {},
   "outputs": [
    {
     "data": {
      "text/plain": [
       "False"
      ]
     },
     "execution_count": 516,
     "metadata": {},
     "output_type": "execute_result"
    }
   ],
   "source": [
    "# 논리곱 연산 (and)\n",
    "a > 3 and b > 3"
   ]
  },
  {
   "cell_type": "code",
   "execution_count": 62,
   "metadata": {
    "colab": {},
    "colab_type": "code",
    "id": "rFrHjjC22MMA"
   },
   "outputs": [
    {
     "data": {
      "text/plain": [
       "True"
      ]
     },
     "execution_count": 62,
     "metadata": {},
     "output_type": "execute_result"
    }
   ],
   "source": [
    "# 논리합 연산 (or)\n",
    "a > 3 or b > 3"
   ]
  },
  {
   "cell_type": "code",
   "execution_count": 64,
   "metadata": {
    "colab": {
     "base_uri": "https://localhost:8080/",
     "height": 34
    },
    "colab_type": "code",
    "id": "ABzXxy-EpVll",
    "outputId": "a27ed330-0d29-4430-98a2-4df5ab138090"
   },
   "outputs": [
    {
     "data": {
      "text/plain": [
       "False"
      ]
     },
     "execution_count": 64,
     "metadata": {},
     "output_type": "execute_result"
    }
   ],
   "source": [
    "# 논리부정 연산\n",
    "not a > 3"
   ]
  },
  {
   "cell_type": "code",
   "execution_count": 65,
   "metadata": {
    "colab": {
     "base_uri": "https://localhost:8080/",
     "height": 34
    },
    "colab_type": "code",
    "id": "PpO_s24z2R5u",
    "outputId": "cbd5dff1-36b8-4285-95f9-f03e9f0c90db"
   },
   "outputs": [
    {
     "data": {
      "text/plain": [
       "True"
      ]
     },
     "execution_count": 65,
     "metadata": {},
     "output_type": "execute_result"
    }
   ],
   "source": [
    "# 논리부정 연산\n",
    "not b > 3"
   ]
  },
  {
   "cell_type": "markdown",
   "metadata": {},
   "source": [
    "#"
   ]
  },
  {
   "cell_type": "markdown",
   "metadata": {},
   "source": [
    "#### 연습문제 1"
   ]
  },
  {
   "cell_type": "code",
   "execution_count": null,
   "metadata": {},
   "outputs": [],
   "source": []
  },
  {
   "cell_type": "markdown",
   "metadata": {},
   "source": [
    "#"
   ]
  },
  {
   "cell_type": "markdown",
   "metadata": {
    "colab_type": "text",
    "id": "KgAFjs7iUREl"
   },
   "source": [
    "### **3) str(문자열)**"
   ]
  },
  {
   "cell_type": "markdown",
   "metadata": {},
   "source": [
    "* 문자열은 문자, 숫자 등을 따옴표로 감싼 자료형입니다."
   ]
  },
  {
   "cell_type": "code",
   "execution_count": 521,
   "metadata": {},
   "outputs": [],
   "source": [
    "str1='Life is Short, '"
   ]
  },
  {
   "cell_type": "code",
   "execution_count": 523,
   "metadata": {},
   "outputs": [
    {
     "data": {
      "text/plain": [
       "'Life is Short, '"
      ]
     },
     "execution_count": 523,
     "metadata": {},
     "output_type": "execute_result"
    }
   ],
   "source": [
    "str1"
   ]
  },
  {
   "cell_type": "code",
   "execution_count": 524,
   "metadata": {},
   "outputs": [
    {
     "name": "stdout",
     "output_type": "stream",
     "text": [
      "Life is Short, \n"
     ]
    }
   ],
   "source": [
    "print(str1)"
   ]
  },
  {
   "cell_type": "code",
   "execution_count": 525,
   "metadata": {},
   "outputs": [
    {
     "data": {
      "text/plain": [
       "str"
      ]
     },
     "execution_count": 525,
     "metadata": {},
     "output_type": "execute_result"
    }
   ],
   "source": [
    "# str1의 클래스를 살펴봅니다.\n",
    "type(str1)"
   ]
  },
  {
   "cell_type": "code",
   "execution_count": 526,
   "metadata": {},
   "outputs": [
    {
     "data": {
      "text/plain": [
       "15"
      ]
     },
     "execution_count": 526,
     "metadata": {},
     "output_type": "execute_result"
    }
   ],
   "source": [
    "# str1의 글자수를 반환합니다.\n",
    "len(str1)"
   ]
  },
  {
   "cell_type": "code",
   "execution_count": 527,
   "metadata": {},
   "outputs": [],
   "source": [
    "str2='you need Python!'"
   ]
  },
  {
   "cell_type": "code",
   "execution_count": 528,
   "metadata": {},
   "outputs": [
    {
     "data": {
      "text/plain": [
       "'you need Python!'"
      ]
     },
     "execution_count": 528,
     "metadata": {},
     "output_type": "execute_result"
    }
   ],
   "source": [
    "str2"
   ]
  },
  {
   "cell_type": "markdown",
   "metadata": {},
   "source": [
    "#"
   ]
  },
  {
   "cell_type": "markdown",
   "metadata": {},
   "source": [
    "### 3-1) 다양한 문자열 생성법"
   ]
  },
  {
   "cell_type": "markdown",
   "metadata": {},
   "source": [
    "* 따옴표 사용"
   ]
  },
  {
   "cell_type": "code",
   "execution_count": 531,
   "metadata": {},
   "outputs": [
    {
     "data": {
      "text/plain": [
       "\"Monty Python's flying Circus\""
      ]
     },
     "execution_count": 531,
     "metadata": {},
     "output_type": "execute_result"
    }
   ],
   "source": [
    "# 문자열 안에 홑따옴표를 추가하려면 문자열을 겹따옴표로 감싸주어야 합니다.\n",
    "\"Monty Python's flying Circus\""
   ]
  },
  {
   "cell_type": "code",
   "execution_count": 537,
   "metadata": {},
   "outputs": [
    {
     "ename": "SyntaxError",
     "evalue": "unterminated string literal (detected at line 2) (2900324017.py, line 2)",
     "output_type": "error",
     "traceback": [
      "\u001b[1;36m  Cell \u001b[1;32mIn[537], line 2\u001b[1;36m\u001b[0m\n\u001b[1;33m    'Monty Python's Flying Circus'\u001b[0m\n\u001b[1;37m                                 ^\u001b[0m\n\u001b[1;31mSyntaxError\u001b[0m\u001b[1;31m:\u001b[0m unterminated string literal (detected at line 2)\n"
     ]
    }
   ],
   "source": [
    "# 홑따옴표로 감싼 문자열 안에 홑따옴표를 이용하면 에러가 납니다.\n",
    "'Monty Python's Flying Circus'"
   ]
  },
  {
   "cell_type": "markdown",
   "metadata": {},
   "source": [
    "* 이스케이프 문자"
   ]
  },
  {
   "cell_type": "code",
   "execution_count": 538,
   "metadata": {},
   "outputs": [
    {
     "data": {
      "text/plain": [
       "'I\\'m saying \"You need Python!\" now.'"
      ]
     },
     "execution_count": 538,
     "metadata": {},
     "output_type": "execute_result"
    }
   ],
   "source": [
    "# 만약 홑따옴표를 쓰고 싶다면 역슬래시(\\) 기호를 추가해야 합니다.\n",
    "'I\\'m saying \"You need Python!\" now.'"
   ]
  },
  {
   "cell_type": "code",
   "execution_count": 539,
   "metadata": {},
   "outputs": [
    {
     "name": "stdout",
     "output_type": "stream",
     "text": [
      "I'm saying \"You need Python!\" now.\n"
     ]
    }
   ],
   "source": [
    "# print() 함수는 역슬래시(\\)를 제외한 결과를 보여줍니다.\n",
    "print('I\\'m saying \"You need Python!\" now.')"
   ]
  },
  {
   "cell_type": "markdown",
   "metadata": {},
   "source": [
    "* 여러 줄 문자열(줄 바꿈)"
   ]
  },
  {
   "cell_type": "code",
   "execution_count": 540,
   "metadata": {},
   "outputs": [
    {
     "name": "stdout",
     "output_type": "stream",
     "text": [
      "Hello!\n",
      "Good to see you\n"
     ]
    }
   ],
   "source": [
    "# 여러 줄의 문자열을 생성하려면 홑따옴표나 겹따옴표를 세 번 감싸줍니다.\n",
    "print('''Hello!\n",
    "Good to see you''')"
   ]
  },
  {
   "cell_type": "code",
   "execution_count": 541,
   "metadata": {},
   "outputs": [
    {
     "data": {
      "text/plain": [
       "'Hello!\\nGood to see you'"
      ]
     },
     "execution_count": 541,
     "metadata": {},
     "output_type": "execute_result"
    }
   ],
   "source": [
    "'''Hello!\n",
    "Good to see you'''"
   ]
  },
  {
   "cell_type": "markdown",
   "metadata": {},
   "source": [
    "#"
   ]
  },
  {
   "cell_type": "markdown",
   "metadata": {},
   "source": [
    "### 3-2) 문자열 연산자"
   ]
  },
  {
   "cell_type": "code",
   "execution_count": 542,
   "metadata": {},
   "outputs": [
    {
     "data": {
      "text/plain": [
       "'Life is Short, you need Python!'"
      ]
     },
     "execution_count": 542,
     "metadata": {},
     "output_type": "execute_result"
    }
   ],
   "source": [
    "# + 연산자는 두 문자열을 하나로 결합합니다.\n",
    "str1+str2"
   ]
  },
  {
   "cell_type": "code",
   "execution_count": 427,
   "metadata": {},
   "outputs": [
    {
     "data": {
      "text/plain": [
       "'you need Python!you need Python!you need Python!'"
      ]
     },
     "execution_count": 427,
     "metadata": {},
     "output_type": "execute_result"
    }
   ],
   "source": [
    "# * 연산자는 문자열을 지정한 횟수만큼 반복합니다.\n",
    "str2*3"
   ]
  },
  {
   "cell_type": "code",
   "execution_count": 428,
   "metadata": {},
   "outputs": [
    {
     "data": {
      "text/plain": [
       "False"
      ]
     },
     "execution_count": 428,
     "metadata": {},
     "output_type": "execute_result"
    }
   ],
   "source": [
    "# 멤버 연산자 in과 not in은 왼쪽 글자가 오른쪽 문자열에 포함되면 True를, 아니면 False를 반환합니다.\n",
    "'a' in str1"
   ]
  },
  {
   "cell_type": "code",
   "execution_count": 429,
   "metadata": {},
   "outputs": [
    {
     "data": {
      "text/plain": [
       "True"
      ]
     },
     "execution_count": 429,
     "metadata": {},
     "output_type": "execute_result"
    }
   ],
   "source": [
    "'a' not in str1"
   ]
  },
  {
   "cell_type": "markdown",
   "metadata": {},
   "source": [
    "#"
   ]
  },
  {
   "cell_type": "markdown",
   "metadata": {},
   "source": [
    "### 3-3) 문자열 인덱싱"
   ]
  },
  {
   "cell_type": "code",
   "execution_count": 430,
   "metadata": {},
   "outputs": [],
   "source": [
    "sen='파이썬 기초수업 재밌죠?'"
   ]
  },
  {
   "cell_type": "code",
   "execution_count": 431,
   "metadata": {},
   "outputs": [
    {
     "data": {
      "text/plain": [
       "'파'"
      ]
     },
     "execution_count": 431,
     "metadata": {},
     "output_type": "execute_result"
    }
   ],
   "source": [
    "# sen의 첫번째 문자(0번 인덱스)를 선택합니다.\n",
    "sen[0]"
   ]
  },
  {
   "cell_type": "code",
   "execution_count": 432,
   "metadata": {},
   "outputs": [
    {
     "data": {
      "text/plain": [
       "'이'"
      ]
     },
     "execution_count": 432,
     "metadata": {},
     "output_type": "execute_result"
    }
   ],
   "source": [
    "# sen의 두번째 문자(1번 인덱스)를 선택합니다.\n",
    "sen[1]"
   ]
  },
  {
   "cell_type": "code",
   "execution_count": 433,
   "metadata": {},
   "outputs": [
    {
     "data": {
      "text/plain": [
       "'파이썬'"
      ]
     },
     "execution_count": 433,
     "metadata": {},
     "output_type": "execute_result"
    }
   ],
   "source": [
    "# sen의 1~3번째 문자를 하나씩 선택하여 하나로 결합합니다.\n",
    "sen[0]+sen[1]+sen[2]"
   ]
  },
  {
   "cell_type": "markdown",
   "metadata": {},
   "source": [
    "#"
   ]
  },
  {
   "cell_type": "markdown",
   "metadata": {},
   "source": [
    "### 3-4) 문자열 슬라이싱"
   ]
  },
  {
   "cell_type": "code",
   "execution_count": 434,
   "metadata": {},
   "outputs": [
    {
     "data": {
      "text/plain": [
       "'파이썬'"
      ]
     },
     "execution_count": 434,
     "metadata": {},
     "output_type": "execute_result"
    }
   ],
   "source": [
    "# 기본 슬라이싱 [a:b] a 이상 b 미만\n",
    "sen[0:3]"
   ]
  },
  {
   "cell_type": "code",
   "execution_count": 435,
   "metadata": {},
   "outputs": [
    {
     "data": {
      "text/plain": [
       "'파이썬'"
      ]
     },
     "execution_count": 435,
     "metadata": {},
     "output_type": "execute_result"
    }
   ],
   "source": [
    "# 클론 앞에 정수를 생략하면 '첫번째 문자부터' 선택합니다.\n",
    "sen[:3]"
   ]
  },
  {
   "cell_type": "code",
   "execution_count": 436,
   "metadata": {},
   "outputs": [
    {
     "data": {
      "text/plain": [
       "'재밌죠?'"
      ]
     },
     "execution_count": 436,
     "metadata": {},
     "output_type": "execute_result"
    }
   ],
   "source": [
    "# 클론 뒤에 정수를 생략하면 '마지막 문자까지' 선택합니다.\n",
    "sen[9:]"
   ]
  },
  {
   "cell_type": "code",
   "execution_count": 437,
   "metadata": {},
   "outputs": [
    {
     "data": {
      "text/plain": [
       "'재밌죠'"
      ]
     },
     "execution_count": 437,
     "metadata": {},
     "output_type": "execute_result"
    }
   ],
   "source": [
    "# 끝에서 두번째 문자까지 반환됩니다.\n",
    "sen[9:-1]"
   ]
  },
  {
   "cell_type": "markdown",
   "metadata": {},
   "source": [
    "#"
   ]
  },
  {
   "cell_type": "markdown",
   "metadata": {},
   "source": [
    "### 연습문제 2"
   ]
  },
  {
   "cell_type": "code",
   "execution_count": 545,
   "metadata": {},
   "outputs": [],
   "source": [
    "# sen1에 '강의실에서 수업을 열심히 듣는다.'를 할당합니다.\n",
    "sen1='강의실에서 수업을 열심히 듣는다.'"
   ]
  },
  {
   "cell_type": "code",
   "execution_count": 546,
   "metadata": {},
   "outputs": [
    {
     "data": {
      "text/plain": [
       "'강의실'"
      ]
     },
     "execution_count": 546,
     "metadata": {},
     "output_type": "execute_result"
    }
   ],
   "source": [
    "# sen1에서 '강의실'을 출력합니다.\n",
    "sen1[0:3]"
   ]
  },
  {
   "cell_type": "code",
   "execution_count": 547,
   "metadata": {},
   "outputs": [
    {
     "data": {
      "text/plain": [
       "'수업'"
      ]
     },
     "execution_count": 547,
     "metadata": {},
     "output_type": "execute_result"
    }
   ],
   "source": [
    "# sen1에서 '수업'을 출력합니다.\n",
    "sen1[6:8]"
   ]
  },
  {
   "cell_type": "code",
   "execution_count": 548,
   "metadata": {},
   "outputs": [
    {
     "data": {
      "text/plain": [
       "'강의실에서 수업을 '"
      ]
     },
     "execution_count": 548,
     "metadata": {},
     "output_type": "execute_result"
    }
   ],
   "source": [
    "# sen1에서 '강의실에서 수업을'을 출력합니다.\n",
    "sen1[:10]"
   ]
  },
  {
   "cell_type": "code",
   "execution_count": 549,
   "metadata": {},
   "outputs": [
    {
     "data": {
      "text/plain": [
       "'열심히 듣는다.'"
      ]
     },
     "execution_count": 549,
     "metadata": {},
     "output_type": "execute_result"
    }
   ],
   "source": [
    "# sen1에서 '열심히 듣는다.'를 출력합니다.\n",
    "sen1[10:]"
   ]
  },
  {
   "cell_type": "code",
   "execution_count": 550,
   "metadata": {},
   "outputs": [
    {
     "data": {
      "text/plain": [
       "'강의실에서 수업을 열심히 듣는다'"
      ]
     },
     "execution_count": 550,
     "metadata": {},
     "output_type": "execute_result"
    }
   ],
   "source": [
    "# sen1에서 '강의실에서 수업을 열심히 듣는다'를 출력합니다.(마침표 없음)\n",
    "sen1[:-1]"
   ]
  },
  {
   "cell_type": "markdown",
   "metadata": {},
   "source": [
    "#"
   ]
  },
  {
   "cell_type": "markdown",
   "metadata": {},
   "source": [
    "### 3-5) 문자열 공백 제거 및 변경"
   ]
  },
  {
   "cell_type": "markdown",
   "metadata": {},
   "source": [
    "* 문자열 공백 제거"
   ]
  },
  {
   "cell_type": "code",
   "execution_count": 552,
   "metadata": {},
   "outputs": [],
   "source": [
    "# sen에 값을 할당합니다.\n",
    "sen='\\n 나의 살던 고향은 꽃피는 산골 \\t'"
   ]
  },
  {
   "cell_type": "code",
   "execution_count": 553,
   "metadata": {},
   "outputs": [
    {
     "data": {
      "text/plain": [
       "'\\n 나의 살던 고향은 꽃피는 산골 \\t'"
      ]
     },
     "execution_count": 553,
     "metadata": {},
     "output_type": "execute_result"
    }
   ],
   "source": [
    "sen"
   ]
  },
  {
   "cell_type": "code",
   "execution_count": 554,
   "metadata": {},
   "outputs": [
    {
     "name": "stdout",
     "output_type": "stream",
     "text": [
      "\n",
      " 나의 살던 고향은 꽃피는 산골 \t\n"
     ]
    }
   ],
   "source": [
    "print(sen)"
   ]
  },
  {
   "cell_type": "code",
   "execution_count": 555,
   "metadata": {},
   "outputs": [],
   "source": [
    "# sen의 양쪽 공백을 제거하고 sen에 재할당합니다.\n",
    "sen=sen.strip()"
   ]
  },
  {
   "cell_type": "code",
   "execution_count": 556,
   "metadata": {},
   "outputs": [
    {
     "data": {
      "text/plain": [
       "'나의 살던 고향은 꽃피는 산골'"
      ]
     },
     "execution_count": 556,
     "metadata": {},
     "output_type": "execute_result"
    }
   ],
   "source": [
    "# 문자열 양쪽이 제거되었습니다.\n",
    "sen"
   ]
  },
  {
   "cell_type": "code",
   "execution_count": 557,
   "metadata": {},
   "outputs": [
    {
     "name": "stdout",
     "output_type": "stream",
     "text": [
      "나의 살던 고향은 꽃피는 산골\n"
     ]
    }
   ],
   "source": [
    "print(sen)"
   ]
  },
  {
   "cell_type": "markdown",
   "metadata": {},
   "source": [
    "* 문자열 변경"
   ]
  },
  {
   "cell_type": "code",
   "execution_count": 111,
   "metadata": {},
   "outputs": [
    {
     "data": {
      "text/plain": [
       "'나의 살던 고향은 꽃피는 공원'"
      ]
     },
     "execution_count": 111,
     "metadata": {},
     "output_type": "execute_result"
    }
   ],
   "source": [
    "# sen의 '산골'을 '공원'으로 바꾼 결과를 출력합니다.\n",
    "sen.replace('산골', '공원')"
   ]
  },
  {
   "cell_type": "code",
   "execution_count": 112,
   "metadata": {},
   "outputs": [
    {
     "data": {
      "text/plain": [
       "'나의 살던 고향은 꽃피는 산골'"
      ]
     },
     "execution_count": 112,
     "metadata": {},
     "output_type": "execute_result"
    }
   ],
   "source": [
    "# sen은 값이 업데이트되지 않았으므로, '산골'이 그대로 있습니다.\n",
    "sen"
   ]
  },
  {
   "cell_type": "markdown",
   "metadata": {},
   "source": [
    "#"
   ]
  },
  {
   "cell_type": "markdown",
   "metadata": {},
   "source": [
    "### 3-6) 문자열 인덱스 확인"
   ]
  },
  {
   "cell_type": "code",
   "execution_count": 113,
   "metadata": {},
   "outputs": [
    {
     "data": {
      "text/plain": [
       "4"
      ]
     },
     "execution_count": 113,
     "metadata": {},
     "output_type": "execute_result"
    }
   ],
   "source": [
    "# count(): 문자열에 포함된 특정 문자(열) 개수를 반환합니다.\n",
    "# sen에 포함된 공백 개수를 반환합니다.\n",
    "sen.count(' ')"
   ]
  },
  {
   "cell_type": "code",
   "execution_count": 114,
   "metadata": {},
   "outputs": [
    {
     "data": {
      "text/plain": [
       "2"
      ]
     },
     "execution_count": 114,
     "metadata": {},
     "output_type": "execute_result"
    }
   ],
   "source": [
    "# index(): 문자열에서 특정 문자(열)이 처음 나오는 인덱스를 반환합니다.\n",
    "# sen에서 공백이 처음 나오는 인덱스를 반환합니다.\n",
    "sen.index(' ')"
   ]
  },
  {
   "cell_type": "code",
   "execution_count": 115,
   "metadata": {},
   "outputs": [
    {
     "data": {
      "text/plain": [
       "5"
      ]
     },
     "execution_count": 115,
     "metadata": {},
     "output_type": "execute_result"
    }
   ],
   "source": [
    "# 탐색할 범위를 설정할 수 있습니다.\n",
    "sen.index(' ', 3, len(sen))"
   ]
  },
  {
   "cell_type": "code",
   "execution_count": 116,
   "metadata": {},
   "outputs": [
    {
     "data": {
      "text/plain": [
       "-1"
      ]
     },
     "execution_count": 116,
     "metadata": {},
     "output_type": "execute_result"
    }
   ],
   "source": [
    "# find(): index()와 유사하지만, 문자열에 없는 문자를 입력하면 -1을 반환합니다.\n",
    "sen.find('공원')"
   ]
  },
  {
   "cell_type": "code",
   "execution_count": 117,
   "metadata": {},
   "outputs": [
    {
     "ename": "ValueError",
     "evalue": "substring not found",
     "output_type": "error",
     "traceback": [
      "\u001b[1;31m---------------------------------------------------------------------------\u001b[0m",
      "\u001b[1;31mValueError\u001b[0m                                Traceback (most recent call last)",
      "Cell \u001b[1;32mIn[117], line 1\u001b[0m\n\u001b[1;32m----> 1\u001b[0m sen\u001b[38;5;241m.\u001b[39mindex(\u001b[38;5;124m'\u001b[39m\u001b[38;5;124m공원\u001b[39m\u001b[38;5;124m'\u001b[39m)\n",
      "\u001b[1;31mValueError\u001b[0m: substring not found"
     ]
    }
   ],
   "source": [
    "# 참고\n",
    "sen.index('공원')"
   ]
  },
  {
   "cell_type": "markdown",
   "metadata": {},
   "source": [
    "#"
   ]
  },
  {
   "cell_type": "markdown",
   "metadata": {},
   "source": [
    "#### **(참고)** 문자열 분리 및 결합"
   ]
  },
  {
   "cell_type": "markdown",
   "metadata": {},
   "source": [
    "* 문자열을 구분자(seperator)로 분리하거나 결합할 수 있습니다."
   ]
  },
  {
   "cell_type": "code",
   "execution_count": 559,
   "metadata": {},
   "outputs": [
    {
     "data": {
      "text/plain": [
       "['나의 살던 고향', ' 꽃피는 산골']"
      ]
     },
     "execution_count": 559,
     "metadata": {},
     "output_type": "execute_result"
    }
   ],
   "source": [
    "# '은'을 기준으로 분리합니다.\n",
    "sen.split('은')"
   ]
  },
  {
   "cell_type": "code",
   "execution_count": 562,
   "metadata": {},
   "outputs": [],
   "source": [
    "# 공백으로 분리한 결과로 strs를 생성합니다.\n",
    "strs=sen.split()"
   ]
  },
  {
   "cell_type": "code",
   "execution_count": 563,
   "metadata": {},
   "outputs": [
    {
     "data": {
      "text/plain": [
       "['나의', '살던', '고향은', '꽃피는', '산골']"
      ]
     },
     "execution_count": 563,
     "metadata": {},
     "output_type": "execute_result"
    }
   ],
   "source": [
    "strs"
   ]
  },
  {
   "cell_type": "code",
   "execution_count": 564,
   "metadata": {},
   "outputs": [
    {
     "data": {
      "text/plain": [
       "list"
      ]
     },
     "execution_count": 564,
     "metadata": {},
     "output_type": "execute_result"
    }
   ],
   "source": [
    "# 클래스를 확인합니다.\n",
    "type(strs)"
   ]
  },
  {
   "cell_type": "code",
   "execution_count": 565,
   "metadata": {},
   "outputs": [
    {
     "data": {
      "text/plain": [
       "'나의 살던 고향은 꽃피는 산골'"
      ]
     },
     "execution_count": 565,
     "metadata": {},
     "output_type": "execute_result"
    }
   ],
   "source": [
    "# 원소 사이에 공백을 추가하여 하나의 문자열로 결합합니다.\n",
    "' '.join(strs)"
   ]
  },
  {
   "cell_type": "code",
   "execution_count": 566,
   "metadata": {},
   "outputs": [
    {
     "data": {
      "text/plain": [
       "'나의-살던-고향은-꽃피는-산골'"
      ]
     },
     "execution_count": 566,
     "metadata": {},
     "output_type": "execute_result"
    }
   ],
   "source": [
    "# 원하는 구분자로 설정할 수 있습니다.\n",
    "'-'.join(strs)"
   ]
  },
  {
   "cell_type": "markdown",
   "metadata": {},
   "source": [
    "#"
   ]
  },
  {
   "cell_type": "markdown",
   "metadata": {},
   "source": [
    "#### 연습문제 3"
   ]
  },
  {
   "cell_type": "code",
   "execution_count": 575,
   "metadata": {},
   "outputs": [],
   "source": [
    "# sen2 할당\n",
    "sen2='\\n팀장님이 상담실에서 고객과 대화 중이시다.\\t'"
   ]
  },
  {
   "cell_type": "code",
   "execution_count": 576,
   "metadata": {},
   "outputs": [],
   "source": [
    "# sen2 공백 제거\n",
    "sen2=sen2.strip()"
   ]
  },
  {
   "cell_type": "code",
   "execution_count": 577,
   "metadata": {},
   "outputs": [
    {
     "name": "stdout",
     "output_type": "stream",
     "text": [
      "팀장님이 상담실에서 고객과 대화 중이시다.\n"
     ]
    }
   ],
   "source": [
    "# sen2 출력\n",
    "print(sen2)"
   ]
  },
  {
   "cell_type": "code",
   "execution_count": 578,
   "metadata": {},
   "outputs": [
    {
     "data": {
      "text/plain": [
       "2"
      ]
     },
     "execution_count": 578,
     "metadata": {},
     "output_type": "execute_result"
    }
   ],
   "source": [
    "# '이' 몇번 포함되었는지 확인\n",
    "sen2.count('이')"
   ]
  },
  {
   "cell_type": "code",
   "execution_count": 579,
   "metadata": {},
   "outputs": [],
   "source": [
    "# 두번째로 나오는 '이'의 인덱스 반환\n",
    "# case1\n",
    "sen2.index('이',4,len(sen2))"
   ]
  },
  {
   "cell_type": "code",
   "execution_count": null,
   "metadata": {},
   "outputs": [],
   "source": [
    "# case2\n",
    "index1=sen2.index('이')"
   ]
  },
  {
   "cell_type": "code",
   "execution_count": 580,
   "metadata": {},
   "outputs": [
    {
     "data": {
      "text/plain": [
       "19"
      ]
     },
     "execution_count": 580,
     "metadata": {},
     "output_type": "execute_result"
    }
   ],
   "source": [
    "sen2.index('이',index1+1)"
   ]
  },
  {
   "cell_type": "code",
   "execution_count": 582,
   "metadata": {},
   "outputs": [
    {
     "data": {
      "text/plain": [
       "'팀장님이 회의실에서 고객과 대화 중이시다.'"
      ]
     },
     "execution_count": 582,
     "metadata": {},
     "output_type": "execute_result"
    }
   ],
   "source": [
    "# 문자열 변경\n",
    "sen2.replace('상담실','회의실')"
   ]
  },
  {
   "cell_type": "code",
   "execution_count": 586,
   "metadata": {},
   "outputs": [],
   "source": [
    "# 공백 기준 분리\n",
    "strs2=sen2.split(' ')"
   ]
  },
  {
   "cell_type": "code",
   "execution_count": 587,
   "metadata": {},
   "outputs": [
    {
     "data": {
      "text/plain": [
       "list"
      ]
     },
     "execution_count": 587,
     "metadata": {},
     "output_type": "execute_result"
    }
   ],
   "source": [
    "# 클래스 확인\n",
    "type(strs2)"
   ]
  },
  {
   "cell_type": "code",
   "execution_count": 588,
   "metadata": {},
   "outputs": [
    {
     "data": {
      "text/plain": [
       "'팀장님이 상담실에서 고객과 대화 중이시다.'"
      ]
     },
     "execution_count": 588,
     "metadata": {},
     "output_type": "execute_result"
    }
   ],
   "source": [
    "# 원소 사이에 공백 추가하여 결합\n",
    "' '.join(strs2)"
   ]
  },
  {
   "cell_type": "markdown",
   "metadata": {},
   "source": [
    "#"
   ]
  },
  {
   "cell_type": "markdown",
   "metadata": {},
   "source": [
    "### 3-7) 원소의 형 변환"
   ]
  },
  {
   "cell_type": "markdown",
   "metadata": {},
   "source": [
    "<img src=\"data:image/png;base64,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\" width=\"400\">"
   ]
  },
  {
   "cell_type": "markdown",
   "metadata": {},
   "source": [
    "* (주의) 소수점이 있는 문자열은 정수로 바로 변환할 수 없고, 실수로 변환한 다음 정수로 변환해야 합니다."
   ]
  },
  {
   "cell_type": "code",
   "execution_count": 589,
   "metadata": {},
   "outputs": [],
   "source": [
    "# a에 문자열 '1.2' 할당합니다.\n",
    "a='1.2'"
   ]
  },
  {
   "cell_type": "code",
   "execution_count": 590,
   "metadata": {},
   "outputs": [
    {
     "data": {
      "text/plain": [
       "str"
      ]
     },
     "execution_count": 590,
     "metadata": {},
     "output_type": "execute_result"
    }
   ],
   "source": [
    "# a의 클래스는 str입니다.\n",
    "type(a)"
   ]
  },
  {
   "cell_type": "code",
   "execution_count": 591,
   "metadata": {},
   "outputs": [],
   "source": [
    "# a를 실수로 형 변환하고 b에 할당합니다.\n",
    "b=float(a)"
   ]
  },
  {
   "cell_type": "code",
   "execution_count": 592,
   "metadata": {},
   "outputs": [
    {
     "data": {
      "text/plain": [
       "float"
      ]
     },
     "execution_count": 592,
     "metadata": {},
     "output_type": "execute_result"
    }
   ],
   "source": [
    "# b의 클래스는 float입니다.\n",
    "type(b)"
   ]
  },
  {
   "cell_type": "code",
   "execution_count": 593,
   "metadata": {},
   "outputs": [
    {
     "ename": "ValueError",
     "evalue": "invalid literal for int() with base 10: '1.2'",
     "output_type": "error",
     "traceback": [
      "\u001b[1;31m---------------------------------------------------------------------------\u001b[0m",
      "\u001b[1;31mValueError\u001b[0m                                Traceback (most recent call last)",
      "Cell \u001b[1;32mIn[593], line 2\u001b[0m\n\u001b[0;32m      1\u001b[0m \u001b[38;5;66;03m# 소수점이 있는 문자열은 정수로 바로 변환할 수 없고, 실수로 변환한 다음 정수로 변환해야 합니다.\u001b[39;00m\n\u001b[1;32m----> 2\u001b[0m c\u001b[38;5;241m=\u001b[39m\u001b[38;5;28mint\u001b[39m(a)\n",
      "\u001b[1;31mValueError\u001b[0m: invalid literal for int() with base 10: '1.2'"
     ]
    }
   ],
   "source": [
    "# 소수점이 있는 문자열은 정수로 바로 변환할 수 없고, 실수로 변환한 다음 정수로 변환해야 합니다.\n",
    "c=int(a)"
   ]
  },
  {
   "cell_type": "code",
   "execution_count": 594,
   "metadata": {},
   "outputs": [],
   "source": [
    "# b를 정수로 형 변환하고 c에 할당합니다.\n",
    "c=int(b)"
   ]
  },
  {
   "cell_type": "code",
   "execution_count": 595,
   "metadata": {},
   "outputs": [
    {
     "data": {
      "text/plain": [
       "int"
      ]
     },
     "execution_count": 595,
     "metadata": {},
     "output_type": "execute_result"
    }
   ],
   "source": [
    "# c의 클래스를 확인합니다.\n",
    "type(c)"
   ]
  },
  {
   "cell_type": "markdown",
   "metadata": {},
   "source": [
    "#"
   ]
  },
  {
   "cell_type": "markdown",
   "metadata": {},
   "source": [
    "### 3-8) 문자열 포맷팅"
   ]
  },
  {
   "cell_type": "markdown",
   "metadata": {},
   "source": [
    "* 포맷 코드 사용하여 변수 삽입"
   ]
  },
  {
   "cell_type": "code",
   "execution_count": 129,
   "metadata": {},
   "outputs": [],
   "source": [
    "# 변수에 값 설정합니다.\n",
    "rate=3.2"
   ]
  },
  {
   "cell_type": "code",
   "execution_count": 130,
   "metadata": {},
   "outputs": [],
   "source": [
    "name='홍길동'"
   ]
  },
  {
   "cell_type": "code",
   "execution_count": 142,
   "metadata": {},
   "outputs": [
    {
     "data": {
      "text/plain": [
       "'고객님의 이자율은 3.200000 %입니다.'"
      ]
     },
     "execution_count": 142,
     "metadata": {},
     "output_type": "execute_result"
    }
   ],
   "source": [
    "# 문자열의 %f에 rate 값을 실수로 입력합니다.\n",
    "'고객님의 이자율은 %f %%입니다.' %(rate)"
   ]
  },
  {
   "cell_type": "code",
   "execution_count": 143,
   "metadata": {},
   "outputs": [
    {
     "data": {
      "text/plain": [
       "'고객님의 이자율은 3.20 %입니다.'"
      ]
     },
     "execution_count": 143,
     "metadata": {},
     "output_type": "execute_result"
    }
   ],
   "source": [
    "# 실수의 소수점 자리를 설정합니다. \n",
    "'고객님의 이자율은 %.2f %%입니다.' %(rate)"
   ]
  },
  {
   "cell_type": "code",
   "execution_count": 144,
   "metadata": {},
   "outputs": [
    {
     "data": {
      "text/plain": [
       "'홍길동 고객님의 이자율은 3.20 %입니다.'"
      ]
     },
     "execution_count": 144,
     "metadata": {},
     "output_type": "execute_result"
    }
   ],
   "source": [
    "# name과 rate의 값을 순차적으로 %s, %f에 반영합니다.\n",
    "'%s 고객님의 이자율은 %.2f %%입니다.' %(name, rate)"
   ]
  },
  {
   "cell_type": "markdown",
   "metadata": {},
   "source": [
    "* format() 함수를 하용한 포맷팅"
   ]
  },
  {
   "cell_type": "code",
   "execution_count": 134,
   "metadata": {},
   "outputs": [
    {
     "data": {
      "text/plain": [
       "'홍길동 고객님의 이자율은 3.2 %입니다.'"
      ]
     },
     "execution_count": 134,
     "metadata": {},
     "output_type": "execute_result"
    }
   ],
   "source": [
    "# 기본 사용번\n",
    "'{} 고객님의 이자율은 {} %입니다.' .format(name, rate)"
   ]
  },
  {
   "cell_type": "code",
   "execution_count": 137,
   "metadata": {},
   "outputs": [
    {
     "data": {
      "text/plain": [
       "'홍길동 고객님의 이자율은 3.2 %입니다.'"
      ]
     },
     "execution_count": 137,
     "metadata": {},
     "output_type": "execute_result"
    }
   ],
   "source": [
    "# 인덱스 지정\n",
    "'{0} 고객님의 이자율은 {1} %입니다.' .format(name, rate)"
   ]
  },
  {
   "cell_type": "code",
   "execution_count": 138,
   "metadata": {},
   "outputs": [
    {
     "data": {
      "text/plain": [
       "'홍길동 고객님의 이자율은 3.20 %입니다.'"
      ]
     },
     "execution_count": 138,
     "metadata": {},
     "output_type": "execute_result"
    }
   ],
   "source": [
    "# 소수점 자리 설정\n",
    "'{0} 고객님의 이자율은 {1:.2f} %입니다.' .format(name, rate)"
   ]
  },
  {
   "cell_type": "code",
   "execution_count": 139,
   "metadata": {},
   "outputs": [
    {
     "data": {
      "text/plain": [
       "'홍길동 고객님의 이자율은 3.20%입니다.'"
      ]
     },
     "execution_count": 139,
     "metadata": {},
     "output_type": "execute_result"
    }
   ],
   "source": [
    "# f문자열 이용(Python 3.6 도입)\n",
    "f'{name} 고객님의 이자율은 {rate:.2f}%입니다.'"
   ]
  },
  {
   "cell_type": "markdown",
   "metadata": {},
   "source": [
    "#"
   ]
  },
  {
   "cell_type": "markdown",
   "metadata": {},
   "source": [
    "### **4) bool(참/거짓)**"
   ]
  },
  {
   "cell_type": "markdown",
   "metadata": {},
   "source": [
    "bool은 True 또는 False를 표현하는 자료형입니다."
   ]
  },
  {
   "cell_type": "code",
   "execution_count": 598,
   "metadata": {},
   "outputs": [],
   "source": [
    "a=True"
   ]
  },
  {
   "cell_type": "code",
   "execution_count": 150,
   "metadata": {},
   "outputs": [
    {
     "data": {
      "text/plain": [
       "bool"
      ]
     },
     "execution_count": 150,
     "metadata": {},
     "output_type": "execute_result"
    }
   ],
   "source": [
    "type(a)"
   ]
  },
  {
   "cell_type": "code",
   "execution_count": 145,
   "metadata": {},
   "outputs": [
    {
     "data": {
      "text/plain": [
       "True"
      ]
     },
     "execution_count": 145,
     "metadata": {},
     "output_type": "execute_result"
    }
   ],
   "source": [
    "# 값이 있으면 True, 없으면 Flase로 반환합니다.\n",
    "bool(1)"
   ]
  },
  {
   "cell_type": "code",
   "execution_count": 146,
   "metadata": {},
   "outputs": [
    {
     "data": {
      "text/plain": [
       "False"
      ]
     },
     "execution_count": 146,
     "metadata": {},
     "output_type": "execute_result"
    }
   ],
   "source": [
    "bool(0)"
   ]
  },
  {
   "cell_type": "markdown",
   "metadata": {},
   "source": [
    "#"
   ]
  },
  {
   "cell_type": "markdown",
   "metadata": {},
   "source": [
    "## 3. Python 자료구조(Data Structure)"
   ]
  },
  {
   "cell_type": "markdown",
   "metadata": {},
   "source": [
    "자료구조\n",
    "\n",
    "1. list(리스트)\n",
    "2. Tuple(튜플)\n",
    "3. Dictionary(딕셔너리)\n",
    "4. Set(집합)"
   ]
  },
  {
   "cell_type": "markdown",
   "metadata": {},
   "source": [
    "### 1) 리스트"
   ]
  },
  {
   "cell_type": "code",
   "execution_count": 155,
   "metadata": {},
   "outputs": [
    {
     "data": {
      "text/plain": [
       "[]"
      ]
     },
     "execution_count": 155,
     "metadata": {},
     "output_type": "execute_result"
    }
   ],
   "source": [
    "# 빈 리스트를 생성하고 출력합니다.\n",
    "a=[]; a"
   ]
  },
  {
   "cell_type": "code",
   "execution_count": 153,
   "metadata": {},
   "outputs": [
    {
     "data": {
      "text/plain": [
       "list"
      ]
     },
     "execution_count": 153,
     "metadata": {},
     "output_type": "execute_result"
    }
   ],
   "source": [
    "# a의 클래스는 list입니다.\n",
    "type(a)"
   ]
  },
  {
   "cell_type": "code",
   "execution_count": 154,
   "metadata": {},
   "outputs": [
    {
     "data": {
      "text/plain": [
       "[1, 5, 3]"
      ]
     },
     "execution_count": 154,
     "metadata": {},
     "output_type": "execute_result"
    }
   ],
   "source": [
    "# 리스트 원소 사이에 콤마로 구분하여 생성합니다.\n",
    "b=[1,5,3]; b"
   ]
  },
  {
   "cell_type": "code",
   "execution_count": 156,
   "metadata": {},
   "outputs": [
    {
     "data": {
      "text/plain": [
       "3"
      ]
     },
     "execution_count": 156,
     "metadata": {},
     "output_type": "execute_result"
    }
   ],
   "source": [
    "# 리스트에 포함된 원소 개수를 반환합니다.\n",
    "len(b)"
   ]
  },
  {
   "cell_type": "code",
   "execution_count": 158,
   "metadata": {},
   "outputs": [
    {
     "data": {
      "text/plain": [
       "[1, 2.0, '3']"
      ]
     },
     "execution_count": 158,
     "metadata": {},
     "output_type": "execute_result"
    }
   ],
   "source": [
    "# 리스트는 다양한 원소를 포함할 수 있습니다.\n",
    "c=[1, 2.0, '3']; c"
   ]
  },
  {
   "cell_type": "code",
   "execution_count": 159,
   "metadata": {},
   "outputs": [
    {
     "data": {
      "text/plain": [
       "[[], [1, 5, 3], [1, 2.0, '3']]"
      ]
     },
     "execution_count": 159,
     "metadata": {},
     "output_type": "execute_result"
    }
   ],
   "source": [
    "# 리스트는 다른 리스트를 원소로 포함할 수 있습니다.\n",
    "d=[a, b, c]; d"
   ]
  },
  {
   "cell_type": "markdown",
   "metadata": {},
   "source": [
    "#"
   ]
  },
  {
   "cell_type": "markdown",
   "metadata": {},
   "source": [
    "### 1-1) 리스트 연산자"
   ]
  },
  {
   "cell_type": "code",
   "execution_count": 163,
   "metadata": {},
   "outputs": [
    {
     "data": {
      "text/plain": [
       "[1, 5, 3, 1, 2.0, '3']"
      ]
     },
     "execution_count": 163,
     "metadata": {},
     "output_type": "execute_result"
    }
   ],
   "source": [
    "# + 연산자는 두 개의 리스트를 하나로 결합합니다.\n",
    "b+c"
   ]
  },
  {
   "cell_type": "code",
   "execution_count": 164,
   "metadata": {},
   "outputs": [
    {
     "data": {
      "text/plain": [
       "[1, 2.0, '3', 1, 2.0, '3']"
      ]
     },
     "execution_count": 164,
     "metadata": {},
     "output_type": "execute_result"
    }
   ],
   "source": [
    "# * 연산자는 리스트 원소를 지정된 횟수만큼 반복합니다.\n",
    "c*2"
   ]
  },
  {
   "cell_type": "code",
   "execution_count": 165,
   "metadata": {},
   "outputs": [
    {
     "data": {
      "text/plain": [
       "True"
      ]
     },
     "execution_count": 165,
     "metadata": {},
     "output_type": "execute_result"
    }
   ],
   "source": [
    "# 멤버 연산자 in, not in으로 어떤 값이 리스트의 원소인지 여부를 확인합니다.\n",
    "1 in b"
   ]
  },
  {
   "cell_type": "code",
   "execution_count": 166,
   "metadata": {},
   "outputs": [
    {
     "data": {
      "text/plain": [
       "False"
      ]
     },
     "execution_count": 166,
     "metadata": {},
     "output_type": "execute_result"
    }
   ],
   "source": [
    "1 not in b"
   ]
  },
  {
   "cell_type": "markdown",
   "metadata": {},
   "source": [
    "#"
   ]
  },
  {
   "cell_type": "markdown",
   "metadata": {},
   "source": [
    "### 1-2) 리스트 인덱싱"
   ]
  },
  {
   "cell_type": "code",
   "execution_count": 167,
   "metadata": {},
   "outputs": [],
   "source": [
    "# 리스트 인덱싱은 원소의 인덱스(위치 번호)를 지정하여 선택합니다.\n",
    "a=[1,2,'3', '4', ['가', '나', '다']]"
   ]
  },
  {
   "cell_type": "code",
   "execution_count": 168,
   "metadata": {},
   "outputs": [
    {
     "data": {
      "text/plain": [
       "3"
      ]
     },
     "execution_count": 168,
     "metadata": {},
     "output_type": "execute_result"
    }
   ],
   "source": [
    "# a의 0번 인덱스와 1번 인덱스 원소를 더합니다.\n",
    "a[0]+a[1]"
   ]
  },
  {
   "cell_type": "code",
   "execution_count": 169,
   "metadata": {},
   "outputs": [
    {
     "data": {
      "text/plain": [
       "'34'"
      ]
     },
     "execution_count": 169,
     "metadata": {},
     "output_type": "execute_result"
    }
   ],
   "source": [
    "# a의 2번 인덱스와 3번 인덱스 원소를 결합합니다.\n",
    "a[2]+a[3]"
   ]
  },
  {
   "cell_type": "code",
   "execution_count": 172,
   "metadata": {},
   "outputs": [
    {
     "data": {
      "text/plain": [
       "'가'"
      ]
     },
     "execution_count": 172,
     "metadata": {},
     "output_type": "execute_result"
    }
   ],
   "source": [
    "# a의 4번 인덱스 원소는 리스트이므로, 대괄호를 이어서 사용하면 리스트의 개별원소를 반환합니다.\n",
    "a[4][0]"
   ]
  },
  {
   "cell_type": "markdown",
   "metadata": {},
   "source": [
    "#"
   ]
  },
  {
   "cell_type": "markdown",
   "metadata": {},
   "source": [
    "### 1-3) 리스트 슬라이싱"
   ]
  },
  {
   "cell_type": "code",
   "execution_count": 173,
   "metadata": {},
   "outputs": [
    {
     "data": {
      "text/plain": [
       "[1, 2]"
      ]
     },
     "execution_count": 173,
     "metadata": {},
     "output_type": "execute_result"
    }
   ],
   "source": [
    "# 기본 슬라이싱\n",
    "a[0:2]"
   ]
  },
  {
   "cell_type": "code",
   "execution_count": 176,
   "metadata": {},
   "outputs": [
    {
     "data": {
      "text/plain": [
       "[1, 2, '3', '4']"
      ]
     },
     "execution_count": 176,
     "metadata": {},
     "output_type": "execute_result"
    }
   ],
   "source": [
    "# 시작 인덱스 생략\n",
    "a[:4]"
   ]
  },
  {
   "cell_type": "code",
   "execution_count": 177,
   "metadata": {},
   "outputs": [
    {
     "data": {
      "text/plain": [
       "[['가', '나', '다']]"
      ]
     },
     "execution_count": 177,
     "metadata": {},
     "output_type": "execute_result"
    }
   ],
   "source": [
    "# 끝 인덱스 생략\n",
    "a[4:]"
   ]
  },
  {
   "cell_type": "code",
   "execution_count": 178,
   "metadata": {},
   "outputs": [
    {
     "data": {
      "text/plain": [
       "[1, 2, '3', '4']"
      ]
     },
     "execution_count": 178,
     "metadata": {},
     "output_type": "execute_result"
    }
   ],
   "source": [
    "# 음수 인덱스\n",
    "a[:-1]"
   ]
  },
  {
   "cell_type": "markdown",
   "metadata": {},
   "source": [
    "#"
   ]
  },
  {
   "cell_type": "markdown",
   "metadata": {},
   "source": [
    "### 1-4) 이중콜론 연산자"
   ]
  },
  {
   "cell_type": "code",
   "execution_count": 179,
   "metadata": {},
   "outputs": [],
   "source": [
    "a=[1,2,3,4,5,6]"
   ]
  },
  {
   "cell_type": "code",
   "execution_count": 180,
   "metadata": {},
   "outputs": [
    {
     "data": {
      "text/plain": [
       "[2, 4]"
      ]
     },
     "execution_count": 180,
     "metadata": {},
     "output_type": "execute_result"
    }
   ],
   "source": [
    "# a의 1~4번 인덱스 원소에서 두 칸 간격인 1,3번 원소를 반환합니다.\n",
    "a[1:5:2]"
   ]
  },
  {
   "cell_type": "code",
   "execution_count": 182,
   "metadata": {},
   "outputs": [
    {
     "data": {
      "text/plain": [
       "[1, 3, 5]"
      ]
     },
     "execution_count": 182,
     "metadata": {},
     "output_type": "execute_result"
    }
   ],
   "source": [
    "# a의 처음부터 4번 인덱스 원소까지 두 칸 간격인 0,2,4번 원소를 반환합니다.\n",
    "a[:5:2]"
   ]
  },
  {
   "cell_type": "code",
   "execution_count": 184,
   "metadata": {},
   "outputs": [
    {
     "data": {
      "text/plain": [
       "[2, 4, 6]"
      ]
     },
     "execution_count": 184,
     "metadata": {},
     "output_type": "execute_result"
    }
   ],
   "source": [
    "# a의 1번 인덱스부터 마지막 원소까지 두 칸 간격으로 반환합니다.\n",
    "a[1::2]"
   ]
  },
  {
   "cell_type": "code",
   "execution_count": 186,
   "metadata": {},
   "outputs": [
    {
     "data": {
      "text/plain": [
       "[1, 3, 5]"
      ]
     },
     "execution_count": 186,
     "metadata": {},
     "output_type": "execute_result"
    }
   ],
   "source": [
    "# a의 처음부터 끝까지 두 칸 간격으로 반환합니다.\n",
    "a[::2]"
   ]
  },
  {
   "cell_type": "code",
   "execution_count": 188,
   "metadata": {},
   "outputs": [
    {
     "data": {
      "text/plain": [
       "[6, 5, 4, 3, 2, 1]"
      ]
     },
     "execution_count": 188,
     "metadata": {},
     "output_type": "execute_result"
    }
   ],
   "source": [
    "# a의 전체 원소를 역순으로 반환합니다. 내림차순 정렬이 아닙니다.\n",
    "a[::-1]"
   ]
  },
  {
   "cell_type": "markdown",
   "metadata": {},
   "source": [
    "#"
   ]
  },
  {
   "cell_type": "markdown",
   "metadata": {},
   "source": [
    "### (참고) 리스트 인덱싱 및 슬라이싱 관련 주의사항"
   ]
  },
  {
   "cell_type": "code",
   "execution_count": 189,
   "metadata": {},
   "outputs": [
    {
     "ename": "SyntaxError",
     "evalue": "invalid syntax (1166193307.py, line 2)",
     "output_type": "error",
     "traceback": [
      "\u001b[1;36m  Cell \u001b[1;32mIn[189], line 2\u001b[1;36m\u001b[0m\n\u001b[1;33m    a[]\u001b[0m\n\u001b[1;37m      ^\u001b[0m\n\u001b[1;31mSyntaxError\u001b[0m\u001b[1;31m:\u001b[0m invalid syntax\n"
     ]
    }
   ],
   "source": [
    "# 빈 대괄호, 에러발생\n",
    "a[]"
   ]
  },
  {
   "cell_type": "code",
   "execution_count": 190,
   "metadata": {},
   "outputs": [
    {
     "data": {
      "text/plain": [
       "[1, 2, 3, 4, 5, 6]"
      ]
     },
     "execution_count": 190,
     "metadata": {},
     "output_type": "execute_result"
    }
   ],
   "source": [
    "# 빈 콜론, 전체 원소 반환\n",
    "a[:]"
   ]
  },
  {
   "cell_type": "markdown",
   "metadata": {},
   "source": [
    "* 인덱싱과 슬라이싱 차이\n",
    "1. 인덱스 지정하면 본래 원소 반환\n",
    "2. 대괄호 안에 콜론 사용하면 항상 리스트로 반환"
   ]
  },
  {
   "cell_type": "code",
   "execution_count": 193,
   "metadata": {},
   "outputs": [
    {
     "data": {
      "text/plain": [
       "1"
      ]
     },
     "execution_count": 193,
     "metadata": {},
     "output_type": "execute_result"
    }
   ],
   "source": [
    "# 인덱싱, 본래 원소 반환\n",
    "a[0]"
   ]
  },
  {
   "cell_type": "code",
   "execution_count": 194,
   "metadata": {},
   "outputs": [
    {
     "data": {
      "text/plain": [
       "[1]"
      ]
     },
     "execution_count": 194,
     "metadata": {},
     "output_type": "execute_result"
    }
   ],
   "source": [
    "# 콜론 사용, 항상 리스트로 반환\n",
    "a[0:1]"
   ]
  },
  {
   "cell_type": "markdown",
   "metadata": {},
   "source": [
    "#"
   ]
  },
  {
   "cell_type": "markdown",
   "metadata": {},
   "source": [
    "### 연습문제 4"
   ]
  },
  {
   "cell_type": "code",
   "execution_count": 196,
   "metadata": {},
   "outputs": [],
   "source": [
    "# 리스트 생성\n",
    "g=[1,3,[5,'7'],'9',['ABC','2',4,6]]"
   ]
  },
  {
   "cell_type": "code",
   "execution_count": 197,
   "metadata": {},
   "outputs": [
    {
     "data": {
      "text/plain": [
       "'9'"
      ]
     },
     "execution_count": 197,
     "metadata": {},
     "output_type": "execute_result"
    }
   ],
   "source": [
    "# 단일원소 선택, '9'\n",
    "g[3]"
   ]
  },
  {
   "cell_type": "code",
   "execution_count": 198,
   "metadata": {},
   "outputs": [
    {
     "data": {
      "text/plain": [
       "4"
      ]
     },
     "execution_count": 198,
     "metadata": {},
     "output_type": "execute_result"
    }
   ],
   "source": [
    "# 단일원소 선택, 4\n",
    "g[-1][2]"
   ]
  },
  {
   "cell_type": "code",
   "execution_count": 199,
   "metadata": {},
   "outputs": [
    {
     "data": {
      "text/plain": [
       "[1, 3, [5, '7'], '9']"
      ]
     },
     "execution_count": 199,
     "metadata": {},
     "output_type": "execute_result"
    }
   ],
   "source": [
    "# 연속원소 선택, [1,3,[5,'7'],'9']\n",
    "g[:4]"
   ]
  },
  {
   "cell_type": "code",
   "execution_count": 200,
   "metadata": {},
   "outputs": [
    {
     "data": {
      "text/plain": [
       "[4, 6]"
      ]
     },
     "execution_count": 200,
     "metadata": {},
     "output_type": "execute_result"
    }
   ],
   "source": [
    "# 연속원소 선택, [4,6]\n",
    "g[-1][2:]"
   ]
  },
  {
   "cell_type": "code",
   "execution_count": 201,
   "metadata": {},
   "outputs": [
    {
     "data": {
      "text/plain": [
       "[3, '9']"
      ]
     },
     "execution_count": 201,
     "metadata": {},
     "output_type": "execute_result"
    }
   ],
   "source": [
    "# 연속원소 선택, [3,'9']\n",
    "g[1::2]"
   ]
  },
  {
   "cell_type": "code",
   "execution_count": 202,
   "metadata": {},
   "outputs": [
    {
     "data": {
      "text/plain": [
       "[['ABC', '2', 4, 6], '9', [5, '7'], 3, 1]"
      ]
     },
     "execution_count": 202,
     "metadata": {},
     "output_type": "execute_result"
    }
   ],
   "source": [
    "# 역순 출력\n",
    "g[::-1]"
   ]
  },
  {
   "cell_type": "markdown",
   "metadata": {},
   "source": [
    "#"
   ]
  },
  {
   "cell_type": "markdown",
   "metadata": {},
   "source": [
    "#### 1-5) range() 함수 사용법"
   ]
  },
  {
   "cell_type": "markdown",
   "metadata": {},
   "source": [
    "range() 함수는 **0부터 입력된 정수 앞까지 연속된 정수를 반환**합니다."
   ]
  },
  {
   "cell_type": "code",
   "execution_count": 210,
   "metadata": {},
   "outputs": [],
   "source": [
    "# 0부터 4까지 연속된 정수를 a에 할당합니다.\n",
    "a=range(5)"
   ]
  },
  {
   "cell_type": "code",
   "execution_count": 211,
   "metadata": {},
   "outputs": [
    {
     "name": "stdout",
     "output_type": "stream",
     "text": [
      "range(0, 5)\n"
     ]
    }
   ],
   "source": [
    "# a를 출력합니다.\n",
    "print(a)"
   ]
  },
  {
   "cell_type": "code",
   "execution_count": 212,
   "metadata": {},
   "outputs": [
    {
     "data": {
      "text/plain": [
       "range"
      ]
     },
     "execution_count": 212,
     "metadata": {},
     "output_type": "execute_result"
    }
   ],
   "source": [
    "# a의 클래스는 range입니다.\n",
    "type(a)"
   ]
  },
  {
   "cell_type": "code",
   "execution_count": 214,
   "metadata": {},
   "outputs": [
    {
     "data": {
      "text/plain": [
       "[0, 1, 2, 3, 4]"
      ]
     },
     "execution_count": 214,
     "metadata": {},
     "output_type": "execute_result"
    }
   ],
   "source": [
    "# a를 list로 변환하고 a에 재할당합니다.\n",
    "a=list(a); a"
   ]
  },
  {
   "cell_type": "code",
   "execution_count": 216,
   "metadata": {},
   "outputs": [
    {
     "data": {
      "text/plain": [
       "[1, 2, 3, 4, 5]"
      ]
     },
     "execution_count": 216,
     "metadata": {},
     "output_type": "execute_result"
    }
   ],
   "source": [
    "# 정수를 두 개 입력하면, 두 숫자 사이의 연속된 정수를 반환합니다.\n",
    "list(range(1,6))"
   ]
  },
  {
   "cell_type": "code",
   "execution_count": 217,
   "metadata": {},
   "outputs": [
    {
     "data": {
      "text/plain": [
       "[1, 3, 5, 7, 9]"
      ]
     },
     "execution_count": 217,
     "metadata": {},
     "output_type": "execute_result"
    }
   ],
   "source": [
    "# 정수를 세 개 입력하면, 마지막 숫자는 간격으로 설정됩니다.\n",
    "list(range(1,11,2))"
   ]
  },
  {
   "cell_type": "markdown",
   "metadata": {},
   "source": [
    "#"
   ]
  },
  {
   "cell_type": "markdown",
   "metadata": {},
   "source": [
    "#### 1-6) 리스트 원소 추가"
   ]
  },
  {
   "cell_type": "markdown",
   "metadata": {},
   "source": [
    "* append() 함수\n",
    "  : 리스트에 **마지막 원소**로 어떤 값을 **추가**하려면 append() 함수를 이용합니다."
   ]
  },
  {
   "cell_type": "code",
   "execution_count": 218,
   "metadata": {},
   "outputs": [],
   "source": [
    "# a에 정수 5를 마지막 원소로 추가합니다.\n",
    "a.append(5)"
   ]
  },
  {
   "cell_type": "code",
   "execution_count": 219,
   "metadata": {},
   "outputs": [
    {
     "data": {
      "text/plain": [
       "[0, 1, 2, 3, 4, 5]"
      ]
     },
     "execution_count": 219,
     "metadata": {},
     "output_type": "execute_result"
    }
   ],
   "source": [
    "a"
   ]
  },
  {
   "cell_type": "code",
   "execution_count": 220,
   "metadata": {},
   "outputs": [],
   "source": [
    "# append() 함수에 리스트를 입력하면, 해당 리스트가 원소로 추가됩니다.\n",
    "a.append([6,7])"
   ]
  },
  {
   "cell_type": "code",
   "execution_count": 221,
   "metadata": {},
   "outputs": [
    {
     "data": {
      "text/plain": [
       "[0, 1, 2, 3, 4, 5, [6, 7]]"
      ]
     },
     "execution_count": 221,
     "metadata": {},
     "output_type": "execute_result"
    }
   ],
   "source": [
    "a"
   ]
  },
  {
   "cell_type": "markdown",
   "metadata": {},
   "source": [
    "* extend() 함수: 리스트에 **2개 이상의 원소를 동시에 추가**하려면 extend() 함수를 이용합니다."
   ]
  },
  {
   "cell_type": "code",
   "execution_count": 224,
   "metadata": {},
   "outputs": [],
   "source": [
    "# extend() 함수에 입력된 리스트 원소를 a에 추가합니다.\n",
    "a.extend([8,9])"
   ]
  },
  {
   "cell_type": "code",
   "execution_count": 225,
   "metadata": {},
   "outputs": [
    {
     "data": {
      "text/plain": [
       "[0, 1, 2, 3, 4, 5, [6, 7], 8, 9]"
      ]
     },
     "execution_count": 225,
     "metadata": {},
     "output_type": "execute_result"
    }
   ],
   "source": [
    "a"
   ]
  },
  {
   "cell_type": "markdown",
   "metadata": {},
   "source": [
    "* insert() 함수: 리스트의 **특정 인덱스 앞에 원소를 추가**하려면 insert() 함수를 이용합니다."
   ]
  },
  {
   "cell_type": "code",
   "execution_count": 229,
   "metadata": {},
   "outputs": [],
   "source": [
    "# a의 1번 인덱스 앞에 정수 10을 삽입합니다.\n",
    "a.insert(1,10)"
   ]
  },
  {
   "cell_type": "code",
   "execution_count": 230,
   "metadata": {},
   "outputs": [
    {
     "data": {
      "text/plain": [
       "[0, 10, 1, 2, 3, 4, 5, [6, 7], 8, 9]"
      ]
     },
     "execution_count": 230,
     "metadata": {},
     "output_type": "execute_result"
    }
   ],
   "source": [
    "a"
   ]
  },
  {
   "cell_type": "markdown",
   "metadata": {},
   "source": [
    "* remove(), pop() 함수: 리스트 **원소를 삭제**할 때 remove(), pop() 함수를 이용합니다."
   ]
  },
  {
   "cell_type": "code",
   "execution_count": 231,
   "metadata": {},
   "outputs": [],
   "source": [
    "# remove() 함수는 입력된 값을 (중복된 경우 맨 처음) 하나만 삭제합니다.\n",
    "a.remove([6,7])"
   ]
  },
  {
   "cell_type": "code",
   "execution_count": 233,
   "metadata": {},
   "outputs": [
    {
     "data": {
      "text/plain": [
       "[0, 10, 1, 2, 3, 4, 5, 8, 9]"
      ]
     },
     "execution_count": 233,
     "metadata": {},
     "output_type": "execute_result"
    }
   ],
   "source": [
    "a"
   ]
  },
  {
   "cell_type": "code",
   "execution_count": 238,
   "metadata": {},
   "outputs": [
    {
     "data": {
      "text/plain": [
       "1"
      ]
     },
     "execution_count": 238,
     "metadata": {},
     "output_type": "execute_result"
    }
   ],
   "source": [
    "# pop() 함수는 입력된 인덱스의 원소를 출력하고, 해당 원소를 제거한 결과를 재할당합니다. \n",
    "a.pop(2)"
   ]
  },
  {
   "cell_type": "code",
   "execution_count": 239,
   "metadata": {},
   "outputs": [
    {
     "data": {
      "text/plain": [
       "[0, 10, 2, 3, 4, 5, 8, 9]"
      ]
     },
     "execution_count": 239,
     "metadata": {},
     "output_type": "execute_result"
    }
   ],
   "source": [
    "a"
   ]
  },
  {
   "cell_type": "markdown",
   "metadata": {},
   "source": [
    "#"
   ]
  },
  {
   "cell_type": "markdown",
   "metadata": {},
   "source": [
    "#### 1-7) 리스트 원소 변경"
   ]
  },
  {
   "cell_type": "markdown",
   "metadata": {},
   "source": [
    "리스트 원소를 변경하려면 인덱스를 이용합니다."
   ]
  },
  {
   "cell_type": "code",
   "execution_count": 240,
   "metadata": {},
   "outputs": [],
   "source": [
    "# a의 0번 인덱스 원소를 정수 1로 변경합니다.\n",
    "a[0]=1"
   ]
  },
  {
   "cell_type": "code",
   "execution_count": 241,
   "metadata": {},
   "outputs": [
    {
     "data": {
      "text/plain": [
       "[1, 10, 2, 3, 4, 5, 8, 9]"
      ]
     },
     "execution_count": 241,
     "metadata": {},
     "output_type": "execute_result"
    }
   ],
   "source": [
    "a"
   ]
  },
  {
   "cell_type": "code",
   "execution_count": 244,
   "metadata": {},
   "outputs": [],
   "source": [
    "# a의 3~4번 인덱스 원소를 리스트 [7,6]의 원소로 변경합니다.\n",
    "a[3:5]=[7,6]"
   ]
  },
  {
   "cell_type": "code",
   "execution_count": 245,
   "metadata": {},
   "outputs": [
    {
     "data": {
      "text/plain": [
       "[1, 10, 2, 7, 6, 5, 8, 9]"
      ]
     },
     "execution_count": 245,
     "metadata": {},
     "output_type": "execute_result"
    }
   ],
   "source": [
    "a"
   ]
  },
  {
   "cell_type": "code",
   "execution_count": 247,
   "metadata": {},
   "outputs": [],
   "source": [
    "# a의 3번 인덱스 원소를 리스트 [4,3]으로 변경합니다.\n",
    "a[3]=[4,3]"
   ]
  },
  {
   "cell_type": "code",
   "execution_count": 248,
   "metadata": {},
   "outputs": [
    {
     "data": {
      "text/plain": [
       "[1, 10, 2, [4, 3], 6, 5, 8, 9]"
      ]
     },
     "execution_count": 248,
     "metadata": {},
     "output_type": "execute_result"
    }
   ],
   "source": [
    "a"
   ]
  },
  {
   "cell_type": "code",
   "execution_count": 260,
   "metadata": {},
   "outputs": [],
   "source": [
    "# 리스트가 아닌 원소로 넣고 싶다면 3번 인덱스만 슬라이스로 잘라서 변경합니다.\n",
    "a[3:4]=[4,3]"
   ]
  },
  {
   "cell_type": "code",
   "execution_count": 261,
   "metadata": {},
   "outputs": [
    {
     "data": {
      "text/plain": [
       "[1, 10, 2, 4, 3, 6, 5, 8, 9]"
      ]
     },
     "execution_count": 261,
     "metadata": {},
     "output_type": "execute_result"
    }
   ],
   "source": [
    "a"
   ]
  },
  {
   "cell_type": "code",
   "execution_count": 264,
   "metadata": {},
   "outputs": [],
   "source": [
    "# 슬라이스해서 리스트로 넣어줍니다.\n",
    "a[3:5]=[[4,3]]"
   ]
  },
  {
   "cell_type": "code",
   "execution_count": 265,
   "metadata": {},
   "outputs": [
    {
     "data": {
      "text/plain": [
       "[1, 10, 2, [4, 3], 6, 5, 8, 9]"
      ]
     },
     "execution_count": 265,
     "metadata": {},
     "output_type": "execute_result"
    }
   ],
   "source": [
    "a"
   ]
  },
  {
   "cell_type": "markdown",
   "metadata": {},
   "source": [
    "#"
   ]
  },
  {
   "cell_type": "markdown",
   "metadata": {},
   "source": [
    "#### 1-8) 리스트 원소 확인"
   ]
  },
  {
   "cell_type": "markdown",
   "metadata": {},
   "source": [
    "count() 함수: 리스트에 포함된 **특정 원소 개수를 세려면** count() 함수를 이용합니다."
   ]
  },
  {
   "cell_type": "code",
   "execution_count": 267,
   "metadata": {},
   "outputs": [
    {
     "data": {
      "text/plain": [
       "1"
      ]
     },
     "execution_count": 267,
     "metadata": {},
     "output_type": "execute_result"
    }
   ],
   "source": [
    "# a의 원소에 1이 몇 개 있는지 확인합니다.\n",
    "a.count(1)"
   ]
  },
  {
   "cell_type": "code",
   "execution_count": 268,
   "metadata": {},
   "outputs": [
    {
     "data": {
      "text/plain": [
       "0"
      ]
     },
     "execution_count": 268,
     "metadata": {},
     "output_type": "execute_result"
    }
   ],
   "source": [
    "# 리스트에 없는 원소를 입력하면 0을 반환합니다.\n",
    "a.count(7)"
   ]
  },
  {
   "cell_type": "markdown",
   "metadata": {},
   "source": [
    "index() 함수: 리스트에서 **특정 원소의 인덱스를 반환하려면** index() 함수를 이용합니다."
   ]
  },
  {
   "cell_type": "code",
   "execution_count": 271,
   "metadata": {},
   "outputs": [
    {
     "data": {
      "text/plain": [
       "0"
      ]
     },
     "execution_count": 271,
     "metadata": {},
     "output_type": "execute_result"
    }
   ],
   "source": [
    "# 리스트 원소 중 1이 처음 나오는 인덱스를 반환합니다.\n",
    "a.index(1)"
   ]
  },
  {
   "cell_type": "code",
   "execution_count": 272,
   "metadata": {},
   "outputs": [
    {
     "ename": "ValueError",
     "evalue": "7 is not in list",
     "output_type": "error",
     "traceback": [
      "\u001b[1;31m---------------------------------------------------------------------------\u001b[0m",
      "\u001b[1;31mValueError\u001b[0m                                Traceback (most recent call last)",
      "Cell \u001b[1;32mIn[272], line 2\u001b[0m\n\u001b[0;32m      1\u001b[0m \u001b[38;5;66;03m# 리스트에 없는 원소를 입력하면 에러가 발생합니다.\u001b[39;00m\n\u001b[1;32m----> 2\u001b[0m a\u001b[38;5;241m.\u001b[39mindex(\u001b[38;5;241m7\u001b[39m)\n",
      "\u001b[1;31mValueError\u001b[0m: 7 is not in list"
     ]
    }
   ],
   "source": [
    "# 리스트에 없는 원소를 입력하면 에러가 발생합니다.\n",
    "# 한편, 리스트는 문자열과 다르게 find() 방식이 없습니다.\n",
    "a.index(7)"
   ]
  },
  {
   "cell_type": "markdown",
   "metadata": {},
   "source": [
    "#"
   ]
  },
  {
   "cell_type": "markdown",
   "metadata": {},
   "source": [
    "#### 1-9) 리스트 원소 정렬"
   ]
  },
  {
   "cell_type": "markdown",
   "metadata": {},
   "source": [
    "sort() 함수: 리스트 **원소를 오름차순으로 정렬**합니다."
   ]
  },
  {
   "cell_type": "code",
   "execution_count": 277,
   "metadata": {},
   "outputs": [
    {
     "ename": "ValueError",
     "evalue": "list.remove(x): x not in list",
     "output_type": "error",
     "traceback": [
      "\u001b[1;31m---------------------------------------------------------------------------\u001b[0m",
      "\u001b[1;31mValueError\u001b[0m                                Traceback (most recent call last)",
      "Cell \u001b[1;32mIn[277], line 2\u001b[0m\n\u001b[0;32m      1\u001b[0m \u001b[38;5;66;03m# sort() 함수는 리스트 원소의 클래스가 모두 같을 때 정상적으로 실행됩니다.\u001b[39;00m\n\u001b[1;32m----> 2\u001b[0m a\u001b[38;5;241m.\u001b[39mremove([\u001b[38;5;241m4\u001b[39m,\u001b[38;5;241m3\u001b[39m])\n",
      "\u001b[1;31mValueError\u001b[0m: list.remove(x): x not in list"
     ]
    }
   ],
   "source": [
    "# sort() 함수는 리스트 원소의 클래스가 모두 같을 때 정상적으로 실행됩니다.\n",
    "a.remove([4,3])"
   ]
  },
  {
   "cell_type": "code",
   "execution_count": 275,
   "metadata": {},
   "outputs": [],
   "source": [
    "# a의 원소를 오름차순으로 정렬합니다.\n",
    "a.sort()"
   ]
  },
  {
   "cell_type": "code",
   "execution_count": 276,
   "metadata": {},
   "outputs": [
    {
     "data": {
      "text/plain": [
       "[1, 2, 5, 6, 8, 9, 10]"
      ]
     },
     "execution_count": 276,
     "metadata": {},
     "output_type": "execute_result"
    }
   ],
   "source": [
    "a"
   ]
  },
  {
   "cell_type": "code",
   "execution_count": 280,
   "metadata": {},
   "outputs": [
    {
     "data": {
      "text/plain": [
       "[10, 9, 8, 6, 5, 2, 1]"
      ]
     },
     "execution_count": 280,
     "metadata": {},
     "output_type": "execute_result"
    }
   ],
   "source": [
    "# 내림차순으로 정렬하려면 reverse=true 삽입해줍니다.\n",
    "a.sort(reverse=True); a"
   ]
  },
  {
   "cell_type": "markdown",
   "metadata": {},
   "source": [
    "reverse() 함수: 리스트 **원소를 역순으로 변경**합니다."
   ]
  },
  {
   "cell_type": "code",
   "execution_count": 281,
   "metadata": {},
   "outputs": [],
   "source": [
    "# reverse() 함수는 내림차순으로 정렬이 아니고, 원소의 순서를 거꾸로 뒤집는 것입니다.\n",
    "a.reverse()"
   ]
  },
  {
   "cell_type": "code",
   "execution_count": 282,
   "metadata": {},
   "outputs": [
    {
     "data": {
      "text/plain": [
       "[1, 2, 5, 6, 8, 9, 10]"
      ]
     },
     "execution_count": 282,
     "metadata": {},
     "output_type": "execute_result"
    }
   ],
   "source": [
    "a"
   ]
  },
  {
   "cell_type": "markdown",
   "metadata": {},
   "source": [
    "#"
   ]
  },
  {
   "cell_type": "markdown",
   "metadata": {},
   "source": [
    "#### 연습문제 5"
   ]
  },
  {
   "cell_type": "code",
   "execution_count": 285,
   "metadata": {},
   "outputs": [],
   "source": [
    "# 리스트 생성, 2,4,6,8,10을 원소로 갖는 리스트 h를 생성합니다.\n",
    "h=[2,4,6,8,10]"
   ]
  },
  {
   "cell_type": "code",
   "execution_count": 286,
   "metadata": {},
   "outputs": [],
   "source": [
    "# 정수 12를 h의 마지막 원소로 추가합니다.\n",
    "h.append(12)"
   ]
  },
  {
   "cell_type": "code",
   "execution_count": 287,
   "metadata": {},
   "outputs": [
    {
     "data": {
      "text/plain": [
       "[2, 4, 6, 8, 10, 12]"
      ]
     },
     "execution_count": 287,
     "metadata": {},
     "output_type": "execute_result"
    }
   ],
   "source": [
    "h"
   ]
  },
  {
   "cell_type": "code",
   "execution_count": 307,
   "metadata": {},
   "outputs": [],
   "source": [
    "# 정수 14, 16을 h의 마지막 원소로 동시에 추가합니다.\n",
    "h.extend([14,16])"
   ]
  },
  {
   "cell_type": "code",
   "execution_count": 290,
   "metadata": {},
   "outputs": [
    {
     "data": {
      "text/plain": [
       "[2, 4, 6, 8, 10, 12, 14, 16]"
      ]
     },
     "execution_count": 290,
     "metadata": {},
     "output_type": "execute_result"
    }
   ],
   "source": [
    "h"
   ]
  },
  {
   "cell_type": "code",
   "execution_count": 291,
   "metadata": {},
   "outputs": [],
   "source": [
    "# 정수 1을 h의 0번 인덱스 앞에 삽입합니다.\n",
    "h.insert(0,1)"
   ]
  },
  {
   "cell_type": "code",
   "execution_count": 292,
   "metadata": {},
   "outputs": [
    {
     "data": {
      "text/plain": [
       "[1, 2, 4, 6, 8, 10, 12, 14, 16]"
      ]
     },
     "execution_count": 292,
     "metadata": {},
     "output_type": "execute_result"
    }
   ],
   "source": [
    "h"
   ]
  },
  {
   "cell_type": "code",
   "execution_count": 293,
   "metadata": {},
   "outputs": [],
   "source": [
    "# h에서 정수 10을 삭제합니다.\n",
    "h.remove(10)"
   ]
  },
  {
   "cell_type": "code",
   "execution_count": 294,
   "metadata": {},
   "outputs": [
    {
     "data": {
      "text/plain": [
       "[1, 2, 4, 6, 8, 12, 14, 16]"
      ]
     },
     "execution_count": 294,
     "metadata": {},
     "output_type": "execute_result"
    }
   ],
   "source": [
    "h"
   ]
  },
  {
   "cell_type": "code",
   "execution_count": 295,
   "metadata": {},
   "outputs": [
    {
     "data": {
      "text/plain": [
       "1"
      ]
     },
     "execution_count": 295,
     "metadata": {},
     "output_type": "execute_result"
    }
   ],
   "source": [
    "# h의 0번 인덱스를 삭제합니다.\n",
    "h.pop(0)"
   ]
  },
  {
   "cell_type": "code",
   "execution_count": 296,
   "metadata": {},
   "outputs": [
    {
     "data": {
      "text/plain": [
       "[2, 4, 6, 8, 12, 14, 16]"
      ]
     },
     "execution_count": 296,
     "metadata": {},
     "output_type": "execute_result"
    }
   ],
   "source": [
    "h"
   ]
  },
  {
   "cell_type": "code",
   "execution_count": 297,
   "metadata": {},
   "outputs": [],
   "source": [
    "# h의 2번 인덱스 원소를 10으로 변경합니다.\n",
    "h[2]=10"
   ]
  },
  {
   "cell_type": "code",
   "execution_count": 298,
   "metadata": {},
   "outputs": [
    {
     "data": {
      "text/plain": [
       "[2, 4, 10, 8, 12, 14, 16]"
      ]
     },
     "execution_count": 298,
     "metadata": {},
     "output_type": "execute_result"
    }
   ],
   "source": [
    "h"
   ]
  },
  {
   "cell_type": "code",
   "execution_count": 300,
   "metadata": {},
   "outputs": [
    {
     "data": {
      "text/plain": [
       "[2, 4, 10, 8, 12, 14, 16, 2, 4, 10, 8, 12, 14, 16]"
      ]
     },
     "execution_count": 300,
     "metadata": {},
     "output_type": "execute_result"
    }
   ],
   "source": [
    "# h의 전체 원소를 2번 반복합니다.\n",
    "h*2"
   ]
  },
  {
   "cell_type": "code",
   "execution_count": 301,
   "metadata": {},
   "outputs": [],
   "source": [
    "# h의 원소를 오름차순으로 정렬합니다.\n",
    "h.sort()"
   ]
  },
  {
   "cell_type": "code",
   "execution_count": 302,
   "metadata": {},
   "outputs": [
    {
     "data": {
      "text/plain": [
       "[2, 4, 8, 10, 12, 14, 16]"
      ]
     },
     "execution_count": 302,
     "metadata": {},
     "output_type": "execute_result"
    }
   ],
   "source": [
    "h"
   ]
  },
  {
   "cell_type": "code",
   "execution_count": 303,
   "metadata": {},
   "outputs": [],
   "source": [
    "# h의 원소를 내림차순으로 정렬합니다.\n",
    "h.sort(reverse=True)"
   ]
  },
  {
   "cell_type": "code",
   "execution_count": 304,
   "metadata": {},
   "outputs": [
    {
     "data": {
      "text/plain": [
       "[16, 14, 12, 10, 8, 4, 2]"
      ]
     },
     "execution_count": 304,
     "metadata": {},
     "output_type": "execute_result"
    }
   ],
   "source": [
    "h"
   ]
  },
  {
   "cell_type": "code",
   "execution_count": 305,
   "metadata": {},
   "outputs": [],
   "source": [
    "# h의 원소를 역순으로 변경합니다. \n",
    "h.reverse()"
   ]
  },
  {
   "cell_type": "code",
   "execution_count": 306,
   "metadata": {},
   "outputs": [
    {
     "data": {
      "text/plain": [
       "[2, 4, 8, 10, 12, 14, 16]"
      ]
     },
     "execution_count": 306,
     "metadata": {},
     "output_type": "execute_result"
    }
   ],
   "source": [
    "h"
   ]
  },
  {
   "cell_type": "markdown",
   "metadata": {},
   "source": [
    "#"
   ]
  },
  {
   "cell_type": "markdown",
   "metadata": {},
   "source": [
    "### 2) 튜플"
   ]
  },
  {
   "cell_type": "markdown",
   "metadata": {},
   "source": [
    "튜플은 리스트와 비슷하지만, 원소를 변경할 수 없다는 특징을 갖고 있습니다."
   ]
  },
  {
   "cell_type": "code",
   "execution_count": 308,
   "metadata": {},
   "outputs": [],
   "source": [
    "# 튜플 생성 및 출력, 리스트와 다른 점은 소괄호로 감싼다는 점입니다.\n",
    "t=(1, 2.0, '3')"
   ]
  },
  {
   "cell_type": "code",
   "execution_count": 309,
   "metadata": {},
   "outputs": [
    {
     "data": {
      "text/plain": [
       "(1, 2.0, '3')"
      ]
     },
     "execution_count": 309,
     "metadata": {},
     "output_type": "execute_result"
    }
   ],
   "source": [
    "t"
   ]
  },
  {
   "cell_type": "markdown",
   "metadata": {},
   "source": [
    "tuple(): 클래스 리스트를 튜플로 변환합니다."
   ]
  },
  {
   "cell_type": "markdown",
   "metadata": {},
   "source": [
    "list(): 클래스 튜플을 리스트로 변환합니다."
   ]
  },
  {
   "cell_type": "code",
   "execution_count": 310,
   "metadata": {},
   "outputs": [
    {
     "ename": "AttributeError",
     "evalue": "'tuple' object has no attribute 'append'",
     "output_type": "error",
     "traceback": [
      "\u001b[1;31m---------------------------------------------------------------------------\u001b[0m",
      "\u001b[1;31mAttributeError\u001b[0m                            Traceback (most recent call last)",
      "Cell \u001b[1;32mIn[310], line 2\u001b[0m\n\u001b[0;32m      1\u001b[0m \u001b[38;5;66;03m# 튜플에는 append가 없습니다.\u001b[39;00m\n\u001b[1;32m----> 2\u001b[0m t\u001b[38;5;241m.\u001b[39mappend(\u001b[38;5;241m4\u001b[39m)\n",
      "\u001b[1;31mAttributeError\u001b[0m: 'tuple' object has no attribute 'append'"
     ]
    }
   ],
   "source": [
    "# 튜플에는 append가 없습니다.\n",
    "t.append(4)"
   ]
  },
  {
   "cell_type": "code",
   "execution_count": 312,
   "metadata": {},
   "outputs": [
    {
     "ename": "AttributeError",
     "evalue": "'tuple' object has no attribute 'remove'",
     "output_type": "error",
     "traceback": [
      "\u001b[1;31m---------------------------------------------------------------------------\u001b[0m",
      "\u001b[1;31mAttributeError\u001b[0m                            Traceback (most recent call last)",
      "Cell \u001b[1;32mIn[312], line 2\u001b[0m\n\u001b[0;32m      1\u001b[0m \u001b[38;5;66;03m# 튜플에는 remove가 없습니다.\u001b[39;00m\n\u001b[1;32m----> 2\u001b[0m t\u001b[38;5;241m.\u001b[39mremove(\u001b[38;5;241m1\u001b[39m)\n",
      "\u001b[1;31mAttributeError\u001b[0m: 'tuple' object has no attribute 'remove'"
     ]
    }
   ],
   "source": [
    "# 튜플에는 remove가 없습니다.\n",
    "t.remove(1)"
   ]
  },
  {
   "cell_type": "code",
   "execution_count": 313,
   "metadata": {},
   "outputs": [
    {
     "ename": "TypeError",
     "evalue": "'tuple' object does not support item assignment",
     "output_type": "error",
     "traceback": [
      "\u001b[1;31m---------------------------------------------------------------------------\u001b[0m",
      "\u001b[1;31mTypeError\u001b[0m                                 Traceback (most recent call last)",
      "Cell \u001b[1;32mIn[313], line 2\u001b[0m\n\u001b[0;32m      1\u001b[0m \u001b[38;5;66;03m# 튜플은 원소를 할당할 수 없습니다.\u001b[39;00m\n\u001b[1;32m----> 2\u001b[0m t[\u001b[38;5;241m2\u001b[39m]\u001b[38;5;241m=\u001b[39m\u001b[38;5;241m3\u001b[39m\n",
      "\u001b[1;31mTypeError\u001b[0m: 'tuple' object does not support item assignment"
     ]
    }
   ],
   "source": [
    "# 튜플은 원소를 할당할 수 없습니다.\n",
    "t[2]=3"
   ]
  },
  {
   "cell_type": "markdown",
   "metadata": {},
   "source": [
    "#"
   ]
  },
  {
   "cell_type": "markdown",
   "metadata": {},
   "source": [
    "### 3) 딕셔너리"
   ]
  },
  {
   "cell_type": "markdown",
   "metadata": {},
   "source": [
    "1. **딕셔너리란?**<br>\n",
    "  *딕셔너리는 키(key)와 값(value)이 콜론으로 결합된 원소를 갖는 자료구조입니다.<Br>\n",
    "  <br>\n",
    "2. **키의 특성**<br>\n",
    "  *딕셔너리에 포함된 key는 중복을 허용하지 않습니다.<br>\n",
    "  *같은 key에 value가 여러 번 할당되면, 가장 마지막에 할당된 value로 업데이트됩니다.<br>\n",
    "  <br>\n",
    "3. **원소 관리**<br>\n",
    "  *딕셔너리의 원소를 추가, 삭제, 변경할 때는 key를 이용합니다.<br>\n",
    "  *딕셔너리는 원소의 순서가 유지되지 않습니다.<br>\n",
    "  *따라서 인덱스를 사용하지 못하며, 대신 key를 기준으로 value를 출력할 수 있습니다. <br>\n",
    "  <br>\n",
    "4. **값의 유형**<br>\n",
    "  *딕셔너리의 value에는 원소, 리스트, 튜플을 할당할 수 있습니다.<br>\n",
    "  *딕셔너리는 중괄호 안에 'key:value'를 콤마로 연결하거나, dict() 클래스로 생성합니다.<br>\n"
   ]
  },
  {
   "cell_type": "markdown",
   "metadata": {},
   "source": [
    "#"
   ]
  },
  {
   "cell_type": "markdown",
   "metadata": {},
   "source": [
    "#### 3-1) 딕셔너리 생성"
   ]
  },
  {
   "cell_type": "markdown",
   "metadata": {},
   "source": [
    "딕셔너리를 생성하고 클래스를 확인합니다."
   ]
  },
  {
   "cell_type": "code",
   "execution_count": 314,
   "metadata": {},
   "outputs": [],
   "source": [
    "d={'item':'pants', 'size':['S','M','L','XL']}"
   ]
  },
  {
   "cell_type": "code",
   "execution_count": 315,
   "metadata": {},
   "outputs": [
    {
     "data": {
      "text/plain": [
       "{'item': 'pants', 'size': ['S', 'M', 'L', 'XL']}"
      ]
     },
     "execution_count": 315,
     "metadata": {},
     "output_type": "execute_result"
    }
   ],
   "source": [
    "d"
   ]
  },
  {
   "cell_type": "code",
   "execution_count": 316,
   "metadata": {},
   "outputs": [
    {
     "data": {
      "text/plain": [
       "dict"
      ]
     },
     "execution_count": 316,
     "metadata": {},
     "output_type": "execute_result"
    }
   ],
   "source": [
    "type(d)"
   ]
  },
  {
   "cell_type": "markdown",
   "metadata": {},
   "source": [
    "dict() 클래스로 딕셔너리를 생성합니다."
   ]
  },
  {
   "cell_type": "code",
   "execution_count": 317,
   "metadata": {},
   "outputs": [
    {
     "data": {
      "text/plain": [
       "{'item': 'pants'}"
      ]
     },
     "execution_count": 317,
     "metadata": {},
     "output_type": "execute_result"
    }
   ],
   "source": [
    "# key를 따옴표로 감싸지 않고 콜론 대신 등호를 사용합니다.\n",
    "dict(item='pants')"
   ]
  },
  {
   "cell_type": "code",
   "execution_count": 318,
   "metadata": {},
   "outputs": [
    {
     "ename": "SyntaxError",
     "evalue": "expression cannot contain assignment, perhaps you meant \"==\"? (1303375034.py, line 1)",
     "output_type": "error",
     "traceback": [
      "\u001b[1;36m  Cell \u001b[1;32mIn[318], line 1\u001b[1;36m\u001b[0m\n\u001b[1;33m    dict('item'='pants')\u001b[0m\n\u001b[1;37m         ^\u001b[0m\n\u001b[1;31mSyntaxError\u001b[0m\u001b[1;31m:\u001b[0m expression cannot contain assignment, perhaps you meant \"==\"?\n"
     ]
    }
   ],
   "source": [
    "# key를 따옴표로 감싸면 에러가 발생합니다.\n",
    "dict('item'='pants')"
   ]
  },
  {
   "cell_type": "code",
   "execution_count": 319,
   "metadata": {},
   "outputs": [
    {
     "ename": "SyntaxError",
     "evalue": "invalid syntax (3530165198.py, line 2)",
     "output_type": "error",
     "traceback": [
      "\u001b[1;36m  Cell \u001b[1;32mIn[319], line 2\u001b[1;36m\u001b[0m\n\u001b[1;33m    dict(itme:'pants')\u001b[0m\n\u001b[1;37m             ^\u001b[0m\n\u001b[1;31mSyntaxError\u001b[0m\u001b[1;31m:\u001b[0m invalid syntax\n"
     ]
    }
   ],
   "source": [
    "# 콜론을 사용하면 에러가 발생합니다.\n",
    "dict(itme:'pants')"
   ]
  },
  {
   "cell_type": "markdown",
   "metadata": {},
   "source": [
    "#"
   ]
  },
  {
   "cell_type": "markdown",
   "metadata": {},
   "source": [
    "#### 3-2) 딕셔너리 원소 확인 및 선택"
   ]
  },
  {
   "cell_type": "markdown",
   "metadata": {},
   "source": [
    "* 키 확인: 딕셔너리에 특정 key가 포함되어 있는지 확인합니다."
   ]
  },
  {
   "cell_type": "code",
   "execution_count": 320,
   "metadata": {},
   "outputs": [
    {
     "data": {
      "text/plain": [
       "True"
      ]
     },
     "execution_count": 320,
     "metadata": {},
     "output_type": "execute_result"
    }
   ],
   "source": [
    "# 포함되어 있으면 True 반환합니다.\n",
    "'item' in d"
   ]
  },
  {
   "cell_type": "code",
   "execution_count": 321,
   "metadata": {},
   "outputs": [
    {
     "data": {
      "text/plain": [
       "False"
      ]
     },
     "execution_count": 321,
     "metadata": {},
     "output_type": "execute_result"
    }
   ],
   "source": [
    "# 그렇지 않으면 False 반환합니다.\n",
    "'shop' in d"
   ]
  },
  {
   "cell_type": "markdown",
   "metadata": {},
   "source": [
    "* 값 반환: 딕셔너리의 key로 value를 반환합니다."
   ]
  },
  {
   "cell_type": "code",
   "execution_count": 323,
   "metadata": {},
   "outputs": [
    {
     "data": {
      "text/plain": [
       "'pants'"
      ]
     },
     "execution_count": 323,
     "metadata": {},
     "output_type": "execute_result"
    }
   ],
   "source": [
    "# d에서 key가 'item'인 원소의 value를 반환합니다.\n",
    "d['item']"
   ]
  },
  {
   "cell_type": "code",
   "execution_count": 324,
   "metadata": {},
   "outputs": [
    {
     "ename": "KeyError",
     "evalue": "'shop'",
     "output_type": "error",
     "traceback": [
      "\u001b[1;31m---------------------------------------------------------------------------\u001b[0m",
      "\u001b[1;31mKeyError\u001b[0m                                  Traceback (most recent call last)",
      "Cell \u001b[1;32mIn[324], line 2\u001b[0m\n\u001b[0;32m      1\u001b[0m \u001b[38;5;66;03m# d에서 key가 'shop'인 원소의 value를 반환합니다.(에러발생)\u001b[39;00m\n\u001b[1;32m----> 2\u001b[0m d[\u001b[38;5;124m'\u001b[39m\u001b[38;5;124mshop\u001b[39m\u001b[38;5;124m'\u001b[39m]\n",
      "\u001b[1;31mKeyError\u001b[0m: 'shop'"
     ]
    }
   ],
   "source": [
    "# d에서 key가 'shop'인 원소의 value를 반환합니다.(에러발생)\n",
    "d['shop']"
   ]
  },
  {
   "cell_type": "markdown",
   "metadata": {},
   "source": [
    "#"
   ]
  },
  {
   "cell_type": "markdown",
   "metadata": {},
   "source": [
    "#### 3-3) 딕셔너리 원소 추가, 변경 및 삭제"
   ]
  },
  {
   "cell_type": "markdown",
   "metadata": {},
   "source": [
    "딕셔너리에 원소를 추가, 변경 및 삭제합니다."
   ]
  },
  {
   "cell_type": "code",
   "execution_count": 325,
   "metadata": {},
   "outputs": [],
   "source": [
    "# d에 key가 'shop'이고, value가 'A1'인 원소를 추가합니다.\n",
    "d['shop']='A1'"
   ]
  },
  {
   "cell_type": "code",
   "execution_count": 326,
   "metadata": {},
   "outputs": [
    {
     "data": {
      "text/plain": [
       "{'item': 'pants', 'size': ['S', 'M', 'L', 'XL'], 'shop': 'A1'}"
      ]
     },
     "execution_count": 326,
     "metadata": {},
     "output_type": "execute_result"
    }
   ],
   "source": [
    "d"
   ]
  },
  {
   "cell_type": "code",
   "execution_count": 327,
   "metadata": {},
   "outputs": [],
   "source": [
    "# d에 key가 'item'인 원소의 value를 'skirt'로 변경합니다.\n",
    "d['item']='skirt'"
   ]
  },
  {
   "cell_type": "code",
   "execution_count": 328,
   "metadata": {},
   "outputs": [
    {
     "data": {
      "text/plain": [
       "'skirt'"
      ]
     },
     "execution_count": 328,
     "metadata": {},
     "output_type": "execute_result"
    }
   ],
   "source": [
    "d['item']"
   ]
  },
  {
   "cell_type": "code",
   "execution_count": 329,
   "metadata": {},
   "outputs": [],
   "source": [
    "# del 문을 이용하여 d에서 key가 'item'인 원소를 제거합니다.\n",
    "del d['item']"
   ]
  },
  {
   "cell_type": "code",
   "execution_count": 330,
   "metadata": {},
   "outputs": [
    {
     "data": {
      "text/plain": [
       "{'size': ['S', 'M', 'L', 'XL'], 'shop': 'A1'}"
      ]
     },
     "execution_count": 330,
     "metadata": {},
     "output_type": "execute_result"
    }
   ],
   "source": [
    "d"
   ]
  },
  {
   "cell_type": "markdown",
   "metadata": {},
   "source": [
    "#"
   ]
  },
  {
   "cell_type": "markdown",
   "metadata": {},
   "source": [
    "### 4) 집합"
   ]
  },
  {
   "cell_type": "markdown",
   "metadata": {},
   "source": [
    "집합은 원소의 중복을 허용하지 않고, 순서도 없는 자료구조입니다."
   ]
  },
  {
   "cell_type": "code",
   "execution_count": 332,
   "metadata": {},
   "outputs": [
    {
     "data": {
      "text/plain": [
       "{1, 2, 3, 4}"
      ]
     },
     "execution_count": 332,
     "metadata": {},
     "output_type": "execute_result"
    }
   ],
   "source": [
    "# 집합을 생성하고 출력합니다.\n",
    "s={1,2,3,4}; s"
   ]
  },
  {
   "cell_type": "code",
   "execution_count": 333,
   "metadata": {},
   "outputs": [
    {
     "data": {
      "text/plain": [
       "set"
      ]
     },
     "execution_count": 333,
     "metadata": {},
     "output_type": "execute_result"
    }
   ],
   "source": [
    "type(s)"
   ]
  },
  {
   "cell_type": "markdown",
   "metadata": {},
   "source": [
    "set(): 리스트를 집합으로 변환합니다."
   ]
  },
  {
   "cell_type": "markdown",
   "metadata": {},
   "source": [
    "list(): 집합을 리스트로 변환합니다."
   ]
  },
  {
   "cell_type": "code",
   "execution_count": 334,
   "metadata": {},
   "outputs": [
    {
     "data": {
      "text/plain": [
       "{1, 2.0}"
      ]
     },
     "execution_count": 334,
     "metadata": {},
     "output_type": "execute_result"
    }
   ],
   "source": [
    "# 두 집합의 교집합을 반환합니다.\n",
    "s&set(c)"
   ]
  },
  {
   "cell_type": "code",
   "execution_count": 338,
   "metadata": {},
   "outputs": [
    {
     "data": {
      "text/plain": [
       "{1, 2, 3, '3', 4}"
      ]
     },
     "execution_count": 338,
     "metadata": {},
     "output_type": "execute_result"
    }
   ],
   "source": [
    "# 두 집합의 합집합을 반환합니다.\n",
    "s|set(c)"
   ]
  },
  {
   "cell_type": "code",
   "execution_count": 340,
   "metadata": {},
   "outputs": [
    {
     "data": {
      "text/plain": [
       "{3, 4}"
      ]
     },
     "execution_count": 340,
     "metadata": {},
     "output_type": "execute_result"
    }
   ],
   "source": [
    "# 두 집합의 차집합을 반환합니다.\n",
    "s-set(c)"
   ]
  },
  {
   "cell_type": "code",
   "execution_count": 342,
   "metadata": {},
   "outputs": [
    {
     "data": {
      "text/plain": [
       "[1, 2.0, '3']"
      ]
     },
     "execution_count": 342,
     "metadata": {},
     "output_type": "execute_result"
    }
   ],
   "source": [
    "c"
   ]
  }
 ],
 "metadata": {
  "colab": {
   "collapsed_sections": [],
   "name": "ch02-part01-python 데이터, 자료구조-실습",
   "provenance": []
  },
  "kernelspec": {
   "display_name": "Python [conda env:base] *",
   "language": "python",
   "name": "conda-base-py"
  },
  "language_info": {
   "codemirror_mode": {
    "name": "ipython",
    "version": 3
   },
   "file_extension": ".py",
   "mimetype": "text/x-python",
   "name": "python",
   "nbconvert_exporter": "python",
   "pygments_lexer": "ipython3",
   "version": "3.13.5"
  }
 },
 "nbformat": 4,
 "nbformat_minor": 4
}
